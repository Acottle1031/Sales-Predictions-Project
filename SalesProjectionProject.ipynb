{
  "nbformat": 4,
  "nbformat_minor": 0,
  "metadata": {
    "colab": {
      "name": "SalesProjectionProject.ipynb",
      "provenance": [],
      "mount_file_id": "1Alv-XN3JsqhZT5ZqYNrusYYA99TpYC6M",
      "authorship_tag": "ABX9TyPVpEPMqj2r76Q+b2lguSiO",
      "include_colab_link": true
    },
    "kernelspec": {
      "name": "python3",
      "display_name": "Python 3"
    },
    "language_info": {
      "name": "python"
    }
  },
  "cells": [
    {
      "cell_type": "markdown",
      "metadata": {
        "id": "view-in-github",
        "colab_type": "text"
      },
      "source": [
        "<a href=\"https://colab.research.google.com/github/Acottle1031/Sales-Predictions-Project/blob/main/SalesProjectionProject.ipynb\" target=\"_parent\"><img src=\"https://colab.research.google.com/assets/colab-badge.svg\" alt=\"Open In Colab\"/></a>"
      ]
    },
    {
      "cell_type": "markdown",
      "source": [
        "#Exploring & Cleaning Data"
      ],
      "metadata": {
        "id": "SfVqOeDs6R8I"
      }
    },
    {
      "cell_type": "code",
      "source": [
        "# Take care of our imports\n",
        "import numpy as np\n",
        "import pandas as pd\n",
        "import matplotlib.pyplot as plt\n",
        "import seaborn as sns\n",
        "import matplotlib as mpl\n",
        "from sklearn.model_selection import train_test_split\n",
        "from sklearn.compose import make_column_selector, make_column_transformer\n",
        "from sklearn.preprocessing import StandardScaler, MinMaxScaler, OneHotEncoder, \\\n",
        "OrdinalEncoder\n",
        "from sklearn.pipeline import make_pipeline\n",
        "from sklearn.impute import SimpleImputer\n",
        "from sklearn import set_config\n",
        "set_config(display='diagram')"
      ],
      "metadata": {
        "id": "lRL46Puu6Nks"
      },
      "execution_count": 3,
      "outputs": []
    },
    {
      "cell_type": "code",
      "source": [
        "# Displaying data & creating copy for preprocessing\n",
        "projections_df = pd.read_csv('/content/drive/MyDrive/01 Week 1 - Python/Food Sales Predictions Project/sales_predictions.csv')\n",
        "projections_df2 = projections_df.copy()\n",
        "projections_df.head()"
      ],
      "metadata": {
        "colab": {
          "base_uri": "https://localhost:8080/",
          "height": 357
        },
        "id": "rdqjhz4DoCEi",
        "outputId": "0795098a-2c78-4e27-cdb2-0c13824a0fba"
      },
      "execution_count": 36,
      "outputs": [
        {
          "output_type": "execute_result",
          "data": {
            "text/plain": [
              "  Item_Identifier  Item_Weight Item_Fat_Content  Item_Visibility  \\\n",
              "0           FDA15         9.30          Low Fat         0.016047   \n",
              "1           DRC01         5.92          Regular         0.019278   \n",
              "2           FDN15        17.50          Low Fat         0.016760   \n",
              "3           FDX07        19.20          Regular         0.000000   \n",
              "4           NCD19         8.93          Low Fat         0.000000   \n",
              "\n",
              "               Item_Type  Item_MRP Outlet_Identifier  \\\n",
              "0                  Dairy  249.8092            OUT049   \n",
              "1            Soft Drinks   48.2692            OUT018   \n",
              "2                   Meat  141.6180            OUT049   \n",
              "3  Fruits and Vegetables  182.0950            OUT010   \n",
              "4              Household   53.8614            OUT013   \n",
              "\n",
              "   Outlet_Establishment_Year Outlet_Size Outlet_Location_Type  \\\n",
              "0                       1999      Medium               Tier 1   \n",
              "1                       2009      Medium               Tier 3   \n",
              "2                       1999      Medium               Tier 1   \n",
              "3                       1998         NaN               Tier 3   \n",
              "4                       1987        High               Tier 3   \n",
              "\n",
              "         Outlet_Type  Item_Outlet_Sales  \n",
              "0  Supermarket Type1          3735.1380  \n",
              "1  Supermarket Type2           443.4228  \n",
              "2  Supermarket Type1          2097.2700  \n",
              "3      Grocery Store           732.3800  \n",
              "4  Supermarket Type1           994.7052  "
            ],
            "text/html": [
              "\n",
              "  <div id=\"df-0d0a1776-7aeb-427c-8819-7e121f7f9ddb\">\n",
              "    <div class=\"colab-df-container\">\n",
              "      <div>\n",
              "<style scoped>\n",
              "    .dataframe tbody tr th:only-of-type {\n",
              "        vertical-align: middle;\n",
              "    }\n",
              "\n",
              "    .dataframe tbody tr th {\n",
              "        vertical-align: top;\n",
              "    }\n",
              "\n",
              "    .dataframe thead th {\n",
              "        text-align: right;\n",
              "    }\n",
              "</style>\n",
              "<table border=\"1\" class=\"dataframe\">\n",
              "  <thead>\n",
              "    <tr style=\"text-align: right;\">\n",
              "      <th></th>\n",
              "      <th>Item_Identifier</th>\n",
              "      <th>Item_Weight</th>\n",
              "      <th>Item_Fat_Content</th>\n",
              "      <th>Item_Visibility</th>\n",
              "      <th>Item_Type</th>\n",
              "      <th>Item_MRP</th>\n",
              "      <th>Outlet_Identifier</th>\n",
              "      <th>Outlet_Establishment_Year</th>\n",
              "      <th>Outlet_Size</th>\n",
              "      <th>Outlet_Location_Type</th>\n",
              "      <th>Outlet_Type</th>\n",
              "      <th>Item_Outlet_Sales</th>\n",
              "    </tr>\n",
              "  </thead>\n",
              "  <tbody>\n",
              "    <tr>\n",
              "      <th>0</th>\n",
              "      <td>FDA15</td>\n",
              "      <td>9.30</td>\n",
              "      <td>Low Fat</td>\n",
              "      <td>0.016047</td>\n",
              "      <td>Dairy</td>\n",
              "      <td>249.8092</td>\n",
              "      <td>OUT049</td>\n",
              "      <td>1999</td>\n",
              "      <td>Medium</td>\n",
              "      <td>Tier 1</td>\n",
              "      <td>Supermarket Type1</td>\n",
              "      <td>3735.1380</td>\n",
              "    </tr>\n",
              "    <tr>\n",
              "      <th>1</th>\n",
              "      <td>DRC01</td>\n",
              "      <td>5.92</td>\n",
              "      <td>Regular</td>\n",
              "      <td>0.019278</td>\n",
              "      <td>Soft Drinks</td>\n",
              "      <td>48.2692</td>\n",
              "      <td>OUT018</td>\n",
              "      <td>2009</td>\n",
              "      <td>Medium</td>\n",
              "      <td>Tier 3</td>\n",
              "      <td>Supermarket Type2</td>\n",
              "      <td>443.4228</td>\n",
              "    </tr>\n",
              "    <tr>\n",
              "      <th>2</th>\n",
              "      <td>FDN15</td>\n",
              "      <td>17.50</td>\n",
              "      <td>Low Fat</td>\n",
              "      <td>0.016760</td>\n",
              "      <td>Meat</td>\n",
              "      <td>141.6180</td>\n",
              "      <td>OUT049</td>\n",
              "      <td>1999</td>\n",
              "      <td>Medium</td>\n",
              "      <td>Tier 1</td>\n",
              "      <td>Supermarket Type1</td>\n",
              "      <td>2097.2700</td>\n",
              "    </tr>\n",
              "    <tr>\n",
              "      <th>3</th>\n",
              "      <td>FDX07</td>\n",
              "      <td>19.20</td>\n",
              "      <td>Regular</td>\n",
              "      <td>0.000000</td>\n",
              "      <td>Fruits and Vegetables</td>\n",
              "      <td>182.0950</td>\n",
              "      <td>OUT010</td>\n",
              "      <td>1998</td>\n",
              "      <td>NaN</td>\n",
              "      <td>Tier 3</td>\n",
              "      <td>Grocery Store</td>\n",
              "      <td>732.3800</td>\n",
              "    </tr>\n",
              "    <tr>\n",
              "      <th>4</th>\n",
              "      <td>NCD19</td>\n",
              "      <td>8.93</td>\n",
              "      <td>Low Fat</td>\n",
              "      <td>0.000000</td>\n",
              "      <td>Household</td>\n",
              "      <td>53.8614</td>\n",
              "      <td>OUT013</td>\n",
              "      <td>1987</td>\n",
              "      <td>High</td>\n",
              "      <td>Tier 3</td>\n",
              "      <td>Supermarket Type1</td>\n",
              "      <td>994.7052</td>\n",
              "    </tr>\n",
              "  </tbody>\n",
              "</table>\n",
              "</div>\n",
              "      <button class=\"colab-df-convert\" onclick=\"convertToInteractive('df-0d0a1776-7aeb-427c-8819-7e121f7f9ddb')\"\n",
              "              title=\"Convert this dataframe to an interactive table.\"\n",
              "              style=\"display:none;\">\n",
              "        \n",
              "  <svg xmlns=\"http://www.w3.org/2000/svg\" height=\"24px\"viewBox=\"0 0 24 24\"\n",
              "       width=\"24px\">\n",
              "    <path d=\"M0 0h24v24H0V0z\" fill=\"none\"/>\n",
              "    <path d=\"M18.56 5.44l.94 2.06.94-2.06 2.06-.94-2.06-.94-.94-2.06-.94 2.06-2.06.94zm-11 1L8.5 8.5l.94-2.06 2.06-.94-2.06-.94L8.5 2.5l-.94 2.06-2.06.94zm10 10l.94 2.06.94-2.06 2.06-.94-2.06-.94-.94-2.06-.94 2.06-2.06.94z\"/><path d=\"M17.41 7.96l-1.37-1.37c-.4-.4-.92-.59-1.43-.59-.52 0-1.04.2-1.43.59L10.3 9.45l-7.72 7.72c-.78.78-.78 2.05 0 2.83L4 21.41c.39.39.9.59 1.41.59.51 0 1.02-.2 1.41-.59l7.78-7.78 2.81-2.81c.8-.78.8-2.07 0-2.86zM5.41 20L4 18.59l7.72-7.72 1.47 1.35L5.41 20z\"/>\n",
              "  </svg>\n",
              "      </button>\n",
              "      \n",
              "  <style>\n",
              "    .colab-df-container {\n",
              "      display:flex;\n",
              "      flex-wrap:wrap;\n",
              "      gap: 12px;\n",
              "    }\n",
              "\n",
              "    .colab-df-convert {\n",
              "      background-color: #E8F0FE;\n",
              "      border: none;\n",
              "      border-radius: 50%;\n",
              "      cursor: pointer;\n",
              "      display: none;\n",
              "      fill: #1967D2;\n",
              "      height: 32px;\n",
              "      padding: 0 0 0 0;\n",
              "      width: 32px;\n",
              "    }\n",
              "\n",
              "    .colab-df-convert:hover {\n",
              "      background-color: #E2EBFA;\n",
              "      box-shadow: 0px 1px 2px rgba(60, 64, 67, 0.3), 0px 1px 3px 1px rgba(60, 64, 67, 0.15);\n",
              "      fill: #174EA6;\n",
              "    }\n",
              "\n",
              "    [theme=dark] .colab-df-convert {\n",
              "      background-color: #3B4455;\n",
              "      fill: #D2E3FC;\n",
              "    }\n",
              "\n",
              "    [theme=dark] .colab-df-convert:hover {\n",
              "      background-color: #434B5C;\n",
              "      box-shadow: 0px 1px 3px 1px rgba(0, 0, 0, 0.15);\n",
              "      filter: drop-shadow(0px 1px 2px rgba(0, 0, 0, 0.3));\n",
              "      fill: #FFFFFF;\n",
              "    }\n",
              "  </style>\n",
              "\n",
              "      <script>\n",
              "        const buttonEl =\n",
              "          document.querySelector('#df-0d0a1776-7aeb-427c-8819-7e121f7f9ddb button.colab-df-convert');\n",
              "        buttonEl.style.display =\n",
              "          google.colab.kernel.accessAllowed ? 'block' : 'none';\n",
              "\n",
              "        async function convertToInteractive(key) {\n",
              "          const element = document.querySelector('#df-0d0a1776-7aeb-427c-8819-7e121f7f9ddb');\n",
              "          const dataTable =\n",
              "            await google.colab.kernel.invokeFunction('convertToInteractive',\n",
              "                                                     [key], {});\n",
              "          if (!dataTable) return;\n",
              "\n",
              "          const docLinkHtml = 'Like what you see? Visit the ' +\n",
              "            '<a target=\"_blank\" href=https://colab.research.google.com/notebooks/data_table.ipynb>data table notebook</a>'\n",
              "            + ' to learn more about interactive tables.';\n",
              "          element.innerHTML = '';\n",
              "          dataTable['output_type'] = 'display_data';\n",
              "          await google.colab.output.renderOutput(dataTable, element);\n",
              "          const docLink = document.createElement('div');\n",
              "          docLink.innerHTML = docLinkHtml;\n",
              "          element.appendChild(docLink);\n",
              "        }\n",
              "      </script>\n",
              "    </div>\n",
              "  </div>\n",
              "  "
            ]
          },
          "metadata": {},
          "execution_count": 36
        }
      ]
    },
    {
      "cell_type": "markdown",
      "source": [
        "1) How many rows and columns?"
      ],
      "metadata": {
        "id": "Sz2zmv2DrRoY"
      }
    },
    {
      "cell_type": "code",
      "source": [
        "# Using df.shape we can see there are 8523 rows and 12 columns\n",
        "projections_df.shape"
      ],
      "metadata": {
        "id": "kI5Yt8e7EDuY"
      },
      "execution_count": null,
      "outputs": []
    },
    {
      "cell_type": "markdown",
      "source": [
        "2) What are the datatypes of each variable"
      ],
      "metadata": {
        "id": "SMGcb82qrXAw"
      }
    },
    {
      "cell_type": "code",
      "source": [
        "# Using df.dtypes we can see the individual data type for each variable\n",
        "projections_df.dtypes"
      ],
      "metadata": {
        "id": "LhyuQgikEFSw"
      },
      "execution_count": null,
      "outputs": []
    },
    {
      "cell_type": "markdown",
      "source": [
        "3) Are there duplicates? If so, drop any duplicates."
      ],
      "metadata": {
        "id": "2dWAqrOjrki1"
      }
    },
    {
      "cell_type": "code",
      "source": [
        "# By using df.duplicated().sum() we can have pandas go through all rows to check for duplicates\n",
        "# Here we can see there are no duplicates\n",
        "projections_df.duplicated().sum()\n"
      ],
      "metadata": {
        "id": "p37b7QZ-wFHx"
      },
      "execution_count": null,
      "outputs": []
    },
    {
      "cell_type": "markdown",
      "source": [
        "4) Identify missing values."
      ],
      "metadata": {
        "id": "OtSz_iTYrpYs"
      }
    },
    {
      "cell_type": "code",
      "source": [
        "# By using .isna().sum() we can see the total number of missing values per column,\n",
        "# 1463 missing values in Item_Weight and 2410 missing in Outlet_Size\n",
        "projections_df.isna().sum()"
      ],
      "metadata": {
        "id": "v11KCAqRwaf2"
      },
      "execution_count": null,
      "outputs": []
    },
    {
      "cell_type": "markdown",
      "source": [
        "5) Decide on how to address the missing values and do it! (This requires your judgement, so explain your choice)."
      ],
      "metadata": {
        "id": "jArPxc7nrw2W"
      }
    },
    {
      "cell_type": "code",
      "source": [
        "# Outlet_Size is missing a lot of data, but could be useful so we'll keep the column\n",
        "# We'll want to impute the average outlet size into the missing value spaces\n",
        "# Item_weight also has a lot of missing values and may possibly be useful for projections so we'll also keep this\n",
        "# Same thing as with Outlet_Size, we'll impute the average weight\n",
        "outlet_size_average = projections_df['Outlet_Size'].mode().iloc[0]\n",
        "item_weight_average = projections_df['Item_Weight'].mode\n",
        "projections_df['Outlet_Size'].fillna(outlet_size_average, inplace=True)\n",
        "projections_df['Item_Weight'].fillna(item_weight_average, inplace=True)"
      ],
      "metadata": {
        "id": "7ngUbQlMwbiX"
      },
      "execution_count": 9,
      "outputs": []
    },
    {
      "cell_type": "markdown",
      "source": [
        "6) Confirm that there are no missing values after addressing them."
      ],
      "metadata": {
        "id": "nH0q0lQIr1u1"
      }
    },
    {
      "cell_type": "code",
      "source": [
        "# Like before, using .isna().sum() we can see the total number of all missing values in our dataframe after changes\n",
        "projections_df.isna().sum()"
      ],
      "metadata": {
        "id": "0Q7DtP2awetJ"
      },
      "execution_count": null,
      "outputs": []
    },
    {
      "cell_type": "markdown",
      "source": [
        "7) Find and fix any inconsistent categories of data (example: fix cat, Cat, and cats so that they are consistent) "
      ],
      "metadata": {
        "id": "uj4UTuCor5aS"
      }
    },
    {
      "cell_type": "code",
      "source": [
        "# Using .value_counts we can see that there are multiple examples of Regular and Low Fat (LF, reg, low fat)\n",
        "# We'll want to change those to match the already existing values\n",
        "projections_df['Item_Fat_Content'].value_counts()\n",
        "projections_df['Item_Fat_Content'] = projections_df['Item_Fat_Content'].replace('LF', 'Low Fat')\n",
        "projections_df['Item_Fat_Content'] = projections_df['Item_Fat_Content'].replace('low fat', 'Low Fat')\n",
        "projections_df['Item_Fat_Content'] = projections_df['Item_Fat_Content'].replace('reg', 'Regular')\n",
        "projections_df['Item_Fat_Content'].value_counts()\n"
      ],
      "metadata": {
        "id": "yoZXQjCLwilj"
      },
      "execution_count": null,
      "outputs": []
    },
    {
      "cell_type": "markdown",
      "source": [
        "8) For any numerical columns, obtain the summary statistics of each (min, max, mean)"
      ],
      "metadata": {
        "id": "8JhaEPGar-nu"
      }
    },
    {
      "cell_type": "code",
      "source": [
        "# Using df.describe we can see a summary of numerical columns including min, max, mean\n",
        "projections_df.describe()"
      ],
      "metadata": {
        "id": "MB5tpIeEwnFW"
      },
      "execution_count": null,
      "outputs": []
    },
    {
      "cell_type": "markdown",
      "source": [
        "#Visualizing Our Data \n",
        "\n",
        "your task is to complete any statistical analyses that might help you understand, explain, or model with your data. This must include at least one of each: Histogram to view the distributions of various features in your dataset. Boxplot to view statistical summaries of various features in your dataset. Heatmap of the correlation between features."
      ],
      "metadata": {
        "id": "tgztWXnZsGRg"
      }
    },
    {
      "cell_type": "code",
      "source": [
        "corr = projections_df.corr()\n",
        "sns.heatmap(corr, cmap='Blues', annot = True);\n",
        "# Starting with a correlation heat map to see what data might correlate to each other for further exploration if needed\n",
        "# Here we see in regards to sales the only metric with a positive correlation is Item_MRP \n",
        "# We also see that the year established has a negative correlation with sales\n",
        "# Additionally, it looks like the Outlet establishment year has a severely negative correlation with Item Visibility"
      ],
      "metadata": {
        "colab": {
          "base_uri": "https://localhost:8080/",
          "height": 392
        },
        "id": "5LLtiR9xf7ml",
        "outputId": "759479eb-fc60-4ffc-bd0c-1b3983502bc6"
      },
      "execution_count": 13,
      "outputs": [
        {
          "output_type": "display_data",
          "data": {
            "text/plain": [
              "<Figure size 432x288 with 2 Axes>"
            ],
            "image/png": "[encoded data removed]"
          },
          "metadata": {
            "needs_background": "light"
          }
        }
      ]
    },
    {
      "cell_type": "code",
      "source": [
        "# Next we'll do a Histogram to check out distribution of outlets by opening year\n",
        "mean = projections_df['Outlet_Establishment_Year'].mean()\n",
        "ax = projections_df['Outlet_Establishment_Year'].hist();\n",
        "ax.set(xlabel = 'Year Established', ylabel = 'Number of Outlets', title = 'Distribution of Outlets by opening');\n",
        "ax.axvline(mean, color='k', ls='--', label = f'Mean year of stores opened')\n",
        "ax.legend();\n"
      ],
      "metadata": {
        "colab": {
          "base_uri": "https://localhost:8080/",
          "height": 295
        },
        "id": "0o41hovWCKvA",
        "outputId": "e034a5f8-9c7c-4033-e717-057f0d85127e"
      },
      "execution_count": 14,
      "outputs": [
        {
          "output_type": "display_data",
          "data": {
            "text/plain": [
              "<Figure size 432x288 with 1 Axes>"
            ],
            "image/png": "[encoded data removed]"
          },
          "metadata": {
            "needs_background": "light"
          }
        }
      ]
    },
    {
      "cell_type": "code",
      "source": [
        "projections_df.boxplot('Item_Outlet_Sales');\n",
        "#using a box plot for sales to show a summary of our sales data\n",
        "#We see that 0 would be our minimum sales, our 25th percentile of our stores are between $1000 - $1900\n",
        "#Our median sales just under $2000 per store \n",
        "#75th percentile is about $2000-$3000 \n",
        "#Our max is about $6500 in sales with anything after that being an outlier "
      ],
      "metadata": {
        "colab": {
          "base_uri": "https://localhost:8080/",
          "height": 266
        },
        "id": "RiGZWjSzUK3u",
        "outputId": "cf2ffbe8-3643-4105-c85b-f8a1b2555787"
      },
      "execution_count": 15,
      "outputs": [
        {
          "output_type": "display_data",
          "data": {
            "text/plain": [
              "<Figure size 432x288 with 1 Axes>"
            ],
            "image/png": "[encoded data removed]"
          },
          "metadata": {
            "needs_background": "light"
          }
        }
      ]
    },
    {
      "cell_type": "markdown",
      "source": [
        "#Explaining Our Data\n",
        "\n",
        "Your task is to build several data visualizations to help your stakeholders better understand trends in the data. Feel free to get creative with this week - this is your chance to set your project apart from others with exceptional visualizations and analyses.\n",
        "\n",
        "Build on your previous cleaning, exploration, and analysis.  \n",
        "Create a minimum of two data visualizations that help others understand trends in the data (explanatory data analysis).\n",
        "Since these graphs are for reporting purposes, make sure they look nice by including titles, legends, etc."
      ],
      "metadata": {
        "id": "W0WkrHEXsWmk"
      }
    },
    {
      "cell_type": "markdown",
      "source": [
        "Q1: How have sales changed over time?"
      ],
      "metadata": {
        "id": "4RHK1xpz4-hq"
      }
    },
    {
      "cell_type": "code",
      "source": [
        "sales_ot = projections_df.groupby('Outlet_Establishment_Year')['Item_Outlet_Sales'].sum()\n",
        "sns.set(style='darkgrid')\n",
        "ax = sns.lineplot(data=projections_df, x='Outlet_Establishment_Year', y=sales_ot)\n",
        "plt.ticklabel_format(style='plain')\n",
        "ax.set(title='Total sales over time', xlabel='Year', ylabel='Total Sales($)');\n",
        "# We can see that sales overall have increased over time, beginning at $1.5 million and increasing to about $2.9 million"
      ],
      "metadata": {
        "id": "L96erWvay3f-"
      },
      "execution_count": null,
      "outputs": []
    },
    {
      "cell_type": "markdown",
      "source": [
        "Q2: Which types of items are making the most money?\n",
        "\n",
        "\n",
        "\n"
      ],
      "metadata": {
        "id": "CAXNVbdR7HZs"
      }
    },
    {
      "cell_type": "code",
      "source": [
        "plt.figure(figsize=(10,10))\n",
        "item_sales_type = projections_df.groupby('Item_Type')['Item_Outlet_Sales'].sum().sort_values()\n",
        "ax = sns.barplot(data=projections_df, x=item_sales_type.values, y=item_sales_type.index, ci=None);\n",
        "sns.set(style='darkgrid')\n",
        "ax.set(title='Total of sales by Item Type($)', xlabel='Sales($)', ylabel='Item Type');\n",
        "ax.get_xaxis().get_major_formatter().set_scientific(False)\n",
        "# We can see here that Fruits & Vegetables are making the most with, Snack foods in a close 2nd"
      ],
      "metadata": {
        "id": "iHkCBuo6zfpB"
      },
      "execution_count": null,
      "outputs": []
    },
    {
      "cell_type": "markdown",
      "source": [
        "# Data split & PreProcessing\n",
        "\n",
        "For Part 5, you will go back to your original dataset with the goal of preventing data leakage.  \n",
        "\n",
        "Please note: If you imputed missing values based on a calculation on the entire dataset (such as mean), you should now perform that step after the train test split using SimpleImputer.  \n",
        "\n",
        "* Identify the features (X) and target (y): Assign the \"Item_Outlet_Sales\" column as your target and the rest of the relevant variables as your features matrix. \n",
        "\n",
        "* Perform a train test split \n",
        "\n",
        "\n",
        "* Create a preprocessing object to prepare the dataset for Machine Learning\n",
        "\n",
        "\n",
        "\n",
        "\n",
        "\n",
        " \n"
      ],
      "metadata": {
        "id": "2ZVth8gyLKzP"
      }
    },
    {
      "cell_type": "code",
      "source": [
        "# Viewing our data copy we made earlier \n",
        "projections_df2.head()"
      ],
      "metadata": {
        "id": "HbofBV7mL7Hu"
      },
      "execution_count": null,
      "outputs": []
    },
    {
      "cell_type": "code",
      "source": [
        "# Showing missing values are still in place as they were above \n",
        "projections_df2.isna().sum()"
      ],
      "metadata": {
        "id": "98rC4mpPMIcJ"
      },
      "execution_count": null,
      "outputs": []
    },
    {
      "cell_type": "code",
      "source": [
        "# Checking for duplicates as we did above\n",
        "projections_df2.duplicated().sum()"
      ],
      "metadata": {
        "id": "U88U_mK0MRpd"
      },
      "execution_count": null,
      "outputs": []
    },
    {
      "cell_type": "code",
      "source": [
        "# Splitting the data\n",
        "X = projections_df2.drop(columns='Item_Outlet_Sales')\n",
        "y = projections_df2['Item_Outlet_Sales']\n",
        "X_train, X_test, y_train, y_test = train_test_split(X, y, random_state=42)"
      ],
      "metadata": {
        "id": "B4xdBKikMeDL"
      },
      "execution_count": 35,
      "outputs": []
    },
    {
      "cell_type": "code",
      "source": [
        "# Instantiating Transformers\n",
        "scaler = StandardScaler()\n",
        "ohe = OneHotEncoder(sparse=False, handle_unknown='ignore')\n",
        "mean_imputer = SimpleImputer(strategy='mean')\n",
        "most_freq_imputer = SimpleImputer(strategy='most_frequent')"
      ],
      "metadata": {
        "id": "0tl13z6qVls_"
      },
      "execution_count": 38,
      "outputs": []
    },
    {
      "cell_type": "code",
      "source": [
        "# Creating Pipelines\n",
        "number_pipe = make_pipeline(mean_imputer, scaler)\n",
        "nominal_pipe = make_pipeline(most_freq_imputer, ohe)"
      ],
      "metadata": {
        "id": "039JwWrQaT4m"
      },
      "execution_count": 39,
      "outputs": []
    },
    {
      "cell_type": "code",
      "source": [
        "# Creating Tuples to match to pipelines\n",
        "number_selector = make_column_selector(dtype_include='number')\n",
        "nom_cols = ['Item_Type', 'Outlet_Size', 'Outlet_Location_Type', 'Outlet_Type']\n",
        "number_tuple = (number_pipe, number_selector)\n",
        "nominal_tuple = (nominal_pipe, nom_cols)"
      ],
      "metadata": {
        "id": "VWOiT_-3bO3X"
      },
      "execution_count": 40,
      "outputs": []
    },
    {
      "cell_type": "code",
      "source": [
        "# Creating Preprocessing Object\n",
        "preprocessor = make_column_transformer(number_tuple, nominal_tuple)"
      ],
      "metadata": {
        "id": "LslqylvMcvm3"
      },
      "execution_count": 42,
      "outputs": []
    }
  ]
}