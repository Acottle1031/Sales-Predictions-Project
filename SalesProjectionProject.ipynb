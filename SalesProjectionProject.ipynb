{
  "nbformat": 4,
  "nbformat_minor": 0,
  "metadata": {
    "colab": {
      "name": "SalesProjectionProject.ipynb",
      "provenance": [],
      "toc_visible": true,
      "mount_file_id": "1Alv-XN3JsqhZT5ZqYNrusYYA99TpYC6M",
      "authorship_tag": "ABX9TyPi5svmroPBk9fWLuhPE8sQ",
      "include_colab_link": true
    },
    "kernelspec": {
      "name": "python3",
      "display_name": "Python 3"
    },
    "language_info": {
      "name": "python"
    }
  },
  "cells": [
    {
      "cell_type": "markdown",
      "metadata": {
        "id": "view-in-github",
        "colab_type": "text"
      },
      "source": [
        "<a href=\"https://colab.research.google.com/github/Acottle1031/Sales-Predictions-Project/blob/main/SalesProjectionProject.ipynb\" target=\"_parent\"><img src=\"https://colab.research.google.com/assets/colab-badge.svg\" alt=\"Open In Colab\"/></a>"
      ]
    },
    {
      "cell_type": "markdown",
      "source": [
        "#Exploring & Cleaning Data"
      ],
      "metadata": {
        "id": "SfVqOeDs6R8I"
      }
    },
    {
      "cell_type": "code",
      "source": [
        "# Take care of our imports\n",
        "import numpy as np\n",
        "import pandas as pd\n",
        "import matplotlib.pyplot as plt\n",
        "import seaborn as sns\n",
        "import matplotlib as mpl\n",
        "from sklearn.model_selection import train_test_split\n",
        "from sklearn.compose import make_column_selector, make_column_transformer\n",
        "from sklearn.preprocessing import StandardScaler, MinMaxScaler, OneHotEncoder, \\\n",
        "OrdinalEncoder\n",
        "from sklearn.pipeline import make_pipeline\n",
        "from sklearn.impute import SimpleImputer\n",
        "from sklearn import set_config\n",
        "from sklearn.linear_model import LinearRegression\n",
        "from sklearn.metrics import mean_absolute_error, mean_squared_error, r2_score\n",
        "from sklearn.tree import DecisionTreeRegressor\n",
        "from sklearn.tree import plot_tree\n",
        "set_config(display='diagram')"
      ],
      "metadata": {
        "id": "lRL46Puu6Nks"
      },
      "execution_count": 67,
      "outputs": []
    },
    {
      "cell_type": "code",
      "source": [
        "# Displaying data & creating copy for preprocessing\n",
        "projections_df = pd.read_csv('/content/drive/MyDrive/01 Week 1 - Python/Data Sets/sales_predictions.csv')\n",
        "projections_df2 = projections_df.copy()\n",
        "projections_df.head()"
      ],
      "metadata": {
        "colab": {
          "base_uri": "https://localhost:8080/",
          "height": 357
        },
        "id": "rdqjhz4DoCEi",
        "outputId": "18aff3ad-4252-4884-fc22-38397f37594e"
      },
      "execution_count": 68,
      "outputs": [
        {
          "output_type": "execute_result",
          "data": {
            "text/plain": [
              "  Item_Identifier  Item_Weight Item_Fat_Content  Item_Visibility  \\\n",
              "0           FDA15         9.30          Low Fat         0.016047   \n",
              "1           DRC01         5.92          Regular         0.019278   \n",
              "2           FDN15        17.50          Low Fat         0.016760   \n",
              "3           FDX07        19.20          Regular         0.000000   \n",
              "4           NCD19         8.93          Low Fat         0.000000   \n",
              "\n",
              "               Item_Type  Item_MRP Outlet_Identifier  \\\n",
              "0                  Dairy  249.8092            OUT049   \n",
              "1            Soft Drinks   48.2692            OUT018   \n",
              "2                   Meat  141.6180            OUT049   \n",
              "3  Fruits and Vegetables  182.0950            OUT010   \n",
              "4              Household   53.8614            OUT013   \n",
              "\n",
              "   Outlet_Establishment_Year Outlet_Size Outlet_Location_Type  \\\n",
              "0                       1999      Medium               Tier 1   \n",
              "1                       2009      Medium               Tier 3   \n",
              "2                       1999      Medium               Tier 1   \n",
              "3                       1998         NaN               Tier 3   \n",
              "4                       1987        High               Tier 3   \n",
              "\n",
              "         Outlet_Type  Item_Outlet_Sales  \n",
              "0  Supermarket Type1          3735.1380  \n",
              "1  Supermarket Type2           443.4228  \n",
              "2  Supermarket Type1          2097.2700  \n",
              "3      Grocery Store           732.3800  \n",
              "4  Supermarket Type1           994.7052  "
            ],
            "text/html": [
              "\n",
              "  <div id=\"df-bd8f74d9-be29-4400-88a5-457915f08143\">\n",
              "    <div class=\"colab-df-container\">\n",
              "      <div>\n",
              "<style scoped>\n",
              "    .dataframe tbody tr th:only-of-type {\n",
              "        vertical-align: middle;\n",
              "    }\n",
              "\n",
              "    .dataframe tbody tr th {\n",
              "        vertical-align: top;\n",
              "    }\n",
              "\n",
              "    .dataframe thead th {\n",
              "        text-align: right;\n",
              "    }\n",
              "</style>\n",
              "<table border=\"1\" class=\"dataframe\">\n",
              "  <thead>\n",
              "    <tr style=\"text-align: right;\">\n",
              "      <th></th>\n",
              "      <th>Item_Identifier</th>\n",
              "      <th>Item_Weight</th>\n",
              "      <th>Item_Fat_Content</th>\n",
              "      <th>Item_Visibility</th>\n",
              "      <th>Item_Type</th>\n",
              "      <th>Item_MRP</th>\n",
              "      <th>Outlet_Identifier</th>\n",
              "      <th>Outlet_Establishment_Year</th>\n",
              "      <th>Outlet_Size</th>\n",
              "      <th>Outlet_Location_Type</th>\n",
              "      <th>Outlet_Type</th>\n",
              "      <th>Item_Outlet_Sales</th>\n",
              "    </tr>\n",
              "  </thead>\n",
              "  <tbody>\n",
              "    <tr>\n",
              "      <th>0</th>\n",
              "      <td>FDA15</td>\n",
              "      <td>9.30</td>\n",
              "      <td>Low Fat</td>\n",
              "      <td>0.016047</td>\n",
              "      <td>Dairy</td>\n",
              "      <td>249.8092</td>\n",
              "      <td>OUT049</td>\n",
              "      <td>1999</td>\n",
              "      <td>Medium</td>\n",
              "      <td>Tier 1</td>\n",
              "      <td>Supermarket Type1</td>\n",
              "      <td>3735.1380</td>\n",
              "    </tr>\n",
              "    <tr>\n",
              "      <th>1</th>\n",
              "      <td>DRC01</td>\n",
              "      <td>5.92</td>\n",
              "      <td>Regular</td>\n",
              "      <td>0.019278</td>\n",
              "      <td>Soft Drinks</td>\n",
              "      <td>48.2692</td>\n",
              "      <td>OUT018</td>\n",
              "      <td>2009</td>\n",
              "      <td>Medium</td>\n",
              "      <td>Tier 3</td>\n",
              "      <td>Supermarket Type2</td>\n",
              "      <td>443.4228</td>\n",
              "    </tr>\n",
              "    <tr>\n",
              "      <th>2</th>\n",
              "      <td>FDN15</td>\n",
              "      <td>17.50</td>\n",
              "      <td>Low Fat</td>\n",
              "      <td>0.016760</td>\n",
              "      <td>Meat</td>\n",
              "      <td>141.6180</td>\n",
              "      <td>OUT049</td>\n",
              "      <td>1999</td>\n",
              "      <td>Medium</td>\n",
              "      <td>Tier 1</td>\n",
              "      <td>Supermarket Type1</td>\n",
              "      <td>2097.2700</td>\n",
              "    </tr>\n",
              "    <tr>\n",
              "      <th>3</th>\n",
              "      <td>FDX07</td>\n",
              "      <td>19.20</td>\n",
              "      <td>Regular</td>\n",
              "      <td>0.000000</td>\n",
              "      <td>Fruits and Vegetables</td>\n",
              "      <td>182.0950</td>\n",
              "      <td>OUT010</td>\n",
              "      <td>1998</td>\n",
              "      <td>NaN</td>\n",
              "      <td>Tier 3</td>\n",
              "      <td>Grocery Store</td>\n",
              "      <td>732.3800</td>\n",
              "    </tr>\n",
              "    <tr>\n",
              "      <th>4</th>\n",
              "      <td>NCD19</td>\n",
              "      <td>8.93</td>\n",
              "      <td>Low Fat</td>\n",
              "      <td>0.000000</td>\n",
              "      <td>Household</td>\n",
              "      <td>53.8614</td>\n",
              "      <td>OUT013</td>\n",
              "      <td>1987</td>\n",
              "      <td>High</td>\n",
              "      <td>Tier 3</td>\n",
              "      <td>Supermarket Type1</td>\n",
              "      <td>994.7052</td>\n",
              "    </tr>\n",
              "  </tbody>\n",
              "</table>\n",
              "</div>\n",
              "      <button class=\"colab-df-convert\" onclick=\"convertToInteractive('df-bd8f74d9-be29-4400-88a5-457915f08143')\"\n",
              "              title=\"Convert this dataframe to an interactive table.\"\n",
              "              style=\"display:none;\">\n",
              "        \n",
              "  <svg xmlns=\"http://www.w3.org/2000/svg\" height=\"24px\"viewBox=\"0 0 24 24\"\n",
              "       width=\"24px\">\n",
              "    <path d=\"M0 0h24v24H0V0z\" fill=\"none\"/>\n",
              "    <path d=\"M18.56 5.44l.94 2.06.94-2.06 2.06-.94-2.06-.94-.94-2.06-.94 2.06-2.06.94zm-11 1L8.5 8.5l.94-2.06 2.06-.94-2.06-.94L8.5 2.5l-.94 2.06-2.06.94zm10 10l.94 2.06.94-2.06 2.06-.94-2.06-.94-.94-2.06-.94 2.06-2.06.94z\"/><path d=\"M17.41 7.96l-1.37-1.37c-.4-.4-.92-.59-1.43-.59-.52 0-1.04.2-1.43.59L10.3 9.45l-7.72 7.72c-.78.78-.78 2.05 0 2.83L4 21.41c.39.39.9.59 1.41.59.51 0 1.02-.2 1.41-.59l7.78-7.78 2.81-2.81c.8-.78.8-2.07 0-2.86zM5.41 20L4 18.59l7.72-7.72 1.47 1.35L5.41 20z\"/>\n",
              "  </svg>\n",
              "      </button>\n",
              "      \n",
              "  <style>\n",
              "    .colab-df-container {\n",
              "      display:flex;\n",
              "      flex-wrap:wrap;\n",
              "      gap: 12px;\n",
              "    }\n",
              "\n",
              "    .colab-df-convert {\n",
              "      background-color: #E8F0FE;\n",
              "      border: none;\n",
              "      border-radius: 50%;\n",
              "      cursor: pointer;\n",
              "      display: none;\n",
              "      fill: #1967D2;\n",
              "      height: 32px;\n",
              "      padding: 0 0 0 0;\n",
              "      width: 32px;\n",
              "    }\n",
              "\n",
              "    .colab-df-convert:hover {\n",
              "      background-color: #E2EBFA;\n",
              "      box-shadow: 0px 1px 2px rgba(60, 64, 67, 0.3), 0px 1px 3px 1px rgba(60, 64, 67, 0.15);\n",
              "      fill: #174EA6;\n",
              "    }\n",
              "\n",
              "    [theme=dark] .colab-df-convert {\n",
              "      background-color: #3B4455;\n",
              "      fill: #D2E3FC;\n",
              "    }\n",
              "\n",
              "    [theme=dark] .colab-df-convert:hover {\n",
              "      background-color: #434B5C;\n",
              "      box-shadow: 0px 1px 3px 1px rgba(0, 0, 0, 0.15);\n",
              "      filter: drop-shadow(0px 1px 2px rgba(0, 0, 0, 0.3));\n",
              "      fill: #FFFFFF;\n",
              "    }\n",
              "  </style>\n",
              "\n",
              "      <script>\n",
              "        const buttonEl =\n",
              "          document.querySelector('#df-bd8f74d9-be29-4400-88a5-457915f08143 button.colab-df-convert');\n",
              "        buttonEl.style.display =\n",
              "          google.colab.kernel.accessAllowed ? 'block' : 'none';\n",
              "\n",
              "        async function convertToInteractive(key) {\n",
              "          const element = document.querySelector('#df-bd8f74d9-be29-4400-88a5-457915f08143');\n",
              "          const dataTable =\n",
              "            await google.colab.kernel.invokeFunction('convertToInteractive',\n",
              "                                                     [key], {});\n",
              "          if (!dataTable) return;\n",
              "\n",
              "          const docLinkHtml = 'Like what you see? Visit the ' +\n",
              "            '<a target=\"_blank\" href=https://colab.research.google.com/notebooks/data_table.ipynb>data table notebook</a>'\n",
              "            + ' to learn more about interactive tables.';\n",
              "          element.innerHTML = '';\n",
              "          dataTable['output_type'] = 'display_data';\n",
              "          await google.colab.output.renderOutput(dataTable, element);\n",
              "          const docLink = document.createElement('div');\n",
              "          docLink.innerHTML = docLinkHtml;\n",
              "          element.appendChild(docLink);\n",
              "        }\n",
              "      </script>\n",
              "    </div>\n",
              "  </div>\n",
              "  "
            ]
          },
          "metadata": {},
          "execution_count": 68
        }
      ]
    },
    {
      "cell_type": "code",
      "source": [
        "# Using df.shape we can see there are 8523 rows and 12 columns\n",
        "projections_df.shape"
      ],
      "metadata": {
        "id": "kI5Yt8e7EDuY",
        "colab": {
          "base_uri": "https://localhost:8080/"
        },
        "outputId": "f049a536-3a69-435e-ea5f-58d3ac3ef247"
      },
      "execution_count": 69,
      "outputs": [
        {
          "output_type": "execute_result",
          "data": {
            "text/plain": [
              "(8523, 12)"
            ]
          },
          "metadata": {},
          "execution_count": 69
        }
      ]
    },
    {
      "cell_type": "code",
      "source": [
        "# Using df.dtypes we can see the individual data type for each variable\n",
        "projections_df.dtypes"
      ],
      "metadata": {
        "id": "LhyuQgikEFSw",
        "colab": {
          "base_uri": "https://localhost:8080/"
        },
        "outputId": "d3c963b6-fa86-47b1-c8c4-512975b2bd92"
      },
      "execution_count": 70,
      "outputs": [
        {
          "output_type": "execute_result",
          "data": {
            "text/plain": [
              "Item_Identifier               object\n",
              "Item_Weight                  float64\n",
              "Item_Fat_Content              object\n",
              "Item_Visibility              float64\n",
              "Item_Type                     object\n",
              "Item_MRP                     float64\n",
              "Outlet_Identifier             object\n",
              "Outlet_Establishment_Year      int64\n",
              "Outlet_Size                   object\n",
              "Outlet_Location_Type          object\n",
              "Outlet_Type                   object\n",
              "Item_Outlet_Sales            float64\n",
              "dtype: object"
            ]
          },
          "metadata": {},
          "execution_count": 70
        }
      ]
    },
    {
      "cell_type": "code",
      "source": [
        "# By using df.duplicated().sum() we can have pandas go through all rows to check for duplicates\n",
        "# Here we can see there are no duplicates\n",
        "projections_df.duplicated().sum()\n"
      ],
      "metadata": {
        "id": "p37b7QZ-wFHx",
        "colab": {
          "base_uri": "https://localhost:8080/"
        },
        "outputId": "43bd7620-947d-468b-c9eb-fd73c565da4f"
      },
      "execution_count": 71,
      "outputs": [
        {
          "output_type": "execute_result",
          "data": {
            "text/plain": [
              "0"
            ]
          },
          "metadata": {},
          "execution_count": 71
        }
      ]
    },
    {
      "cell_type": "code",
      "source": [
        "# By using .isna().sum() we can see the total number of missing values per column,\n",
        "# 1463 missing values in Item_Weight and 2410 missing in Outlet_Size\n",
        "projections_df.isna().sum()"
      ],
      "metadata": {
        "id": "v11KCAqRwaf2",
        "colab": {
          "base_uri": "https://localhost:8080/"
        },
        "outputId": "f622dc18-c5d9-484a-f1e5-45dd04c6dd8a"
      },
      "execution_count": 72,
      "outputs": [
        {
          "output_type": "execute_result",
          "data": {
            "text/plain": [
              "Item_Identifier                 0\n",
              "Item_Weight                  1463\n",
              "Item_Fat_Content                0\n",
              "Item_Visibility                 0\n",
              "Item_Type                       0\n",
              "Item_MRP                        0\n",
              "Outlet_Identifier               0\n",
              "Outlet_Establishment_Year       0\n",
              "Outlet_Size                  2410\n",
              "Outlet_Location_Type            0\n",
              "Outlet_Type                     0\n",
              "Item_Outlet_Sales               0\n",
              "dtype: int64"
            ]
          },
          "metadata": {},
          "execution_count": 72
        }
      ]
    },
    {
      "cell_type": "code",
      "source": [
        "# Outlet_Size is missing a lot of data, but could be useful so we'll keep the column\n",
        "# We'll want to impute the average outlet size into the missing value spaces\n",
        "# Item_weight also has a lot of missing values and may possibly be useful for projections so we'll also keep this\n",
        "# Same thing as with Outlet_Size, we'll impute the average weight\n",
        "outlet_size_average = projections_df['Outlet_Size'].mode().iloc[0]\n",
        "item_weight_average = projections_df['Item_Weight'].mode\n",
        "projections_df['Outlet_Size'].fillna(outlet_size_average, inplace=True)\n",
        "projections_df['Item_Weight'].fillna(item_weight_average, inplace=True)"
      ],
      "metadata": {
        "id": "7ngUbQlMwbiX"
      },
      "execution_count": 73,
      "outputs": []
    },
    {
      "cell_type": "code",
      "source": [
        "# Like before, using .isna().sum() we can see the total number of all missing values in our dataframe after changes\n",
        "projections_df.isna().sum()"
      ],
      "metadata": {
        "id": "0Q7DtP2awetJ",
        "colab": {
          "base_uri": "https://localhost:8080/"
        },
        "outputId": "04ac61d2-5885-4b83-de7f-be1c390d4215"
      },
      "execution_count": 74,
      "outputs": [
        {
          "output_type": "execute_result",
          "data": {
            "text/plain": [
              "Item_Identifier              0\n",
              "Item_Weight                  0\n",
              "Item_Fat_Content             0\n",
              "Item_Visibility              0\n",
              "Item_Type                    0\n",
              "Item_MRP                     0\n",
              "Outlet_Identifier            0\n",
              "Outlet_Establishment_Year    0\n",
              "Outlet_Size                  0\n",
              "Outlet_Location_Type         0\n",
              "Outlet_Type                  0\n",
              "Item_Outlet_Sales            0\n",
              "dtype: int64"
            ]
          },
          "metadata": {},
          "execution_count": 74
        }
      ]
    },
    {
      "cell_type": "code",
      "source": [
        "# Using .value_counts we can see that there are multiple examples of Regular and Low Fat (LF, reg, low fat)\n",
        "projections_df.value_counts('Item_Fat_Content')\n"
      ],
      "metadata": {
        "id": "yoZXQjCLwilj",
        "colab": {
          "base_uri": "https://localhost:8080/"
        },
        "outputId": "916f679b-fd0c-45d1-8118-a5b1438c025b"
      },
      "execution_count": 75,
      "outputs": [
        {
          "output_type": "execute_result",
          "data": {
            "text/plain": [
              "Item_Fat_Content\n",
              "Low Fat    5089\n",
              "Regular    2889\n",
              "LF          316\n",
              "reg         117\n",
              "low fat     112\n",
              "dtype: int64"
            ]
          },
          "metadata": {},
          "execution_count": 75
        }
      ]
    },
    {
      "cell_type": "code",
      "source": [
        "# We'll want to change those to match the already existing values\n",
        "projections_df['Item_Fat_Content'].value_counts()\n",
        "projections_df['Item_Fat_Content'] = projections_df['Item_Fat_Content'].replace('LF', 'Low Fat')\n",
        "projections_df['Item_Fat_Content'] = projections_df['Item_Fat_Content'].replace('low fat', 'Low Fat')\n",
        "projections_df['Item_Fat_Content'] = projections_df['Item_Fat_Content'].replace('reg', 'Regular')\n",
        "projections_df['Item_Fat_Content'].value_counts()"
      ],
      "metadata": {
        "colab": {
          "base_uri": "https://localhost:8080/"
        },
        "id": "ki74EyR9aGaT",
        "outputId": "46ead593-f352-4027-e953-ebce014647f7"
      },
      "execution_count": 76,
      "outputs": [
        {
          "output_type": "execute_result",
          "data": {
            "text/plain": [
              "Low Fat    5517\n",
              "Regular    3006\n",
              "Name: Item_Fat_Content, dtype: int64"
            ]
          },
          "metadata": {},
          "execution_count": 76
        }
      ]
    },
    {
      "cell_type": "code",
      "source": [
        "# Using df.describe we can see a summary of numerical columns including min, max, mean\n",
        "projections_df.describe()"
      ],
      "metadata": {
        "id": "MB5tpIeEwnFW",
        "colab": {
          "base_uri": "https://localhost:8080/",
          "height": 300
        },
        "outputId": "69194ff3-fbf1-40fa-979d-0b427e17fce9"
      },
      "execution_count": 77,
      "outputs": [
        {
          "output_type": "execute_result",
          "data": {
            "text/plain": [
              "       Item_Visibility     Item_MRP  Outlet_Establishment_Year  \\\n",
              "count      8523.000000  8523.000000                8523.000000   \n",
              "mean          0.066132   140.992782                1997.831867   \n",
              "std           0.051598    62.275067                   8.371760   \n",
              "min           0.000000    31.290000                1985.000000   \n",
              "25%           0.026989    93.826500                1987.000000   \n",
              "50%           0.053931   143.012800                1999.000000   \n",
              "75%           0.094585   185.643700                2004.000000   \n",
              "max           0.328391   266.888400                2009.000000   \n",
              "\n",
              "       Item_Outlet_Sales  \n",
              "count        8523.000000  \n",
              "mean         2181.288914  \n",
              "std          1706.499616  \n",
              "min            33.290000  \n",
              "25%           834.247400  \n",
              "50%          1794.331000  \n",
              "75%          3101.296400  \n",
              "max         13086.964800  "
            ],
            "text/html": [
              "\n",
              "  <div id=\"df-87f5afa7-64b9-4a2f-b901-b60b3e69d496\">\n",
              "    <div class=\"colab-df-container\">\n",
              "      <div>\n",
              "<style scoped>\n",
              "    .dataframe tbody tr th:only-of-type {\n",
              "        vertical-align: middle;\n",
              "    }\n",
              "\n",
              "    .dataframe tbody tr th {\n",
              "        vertical-align: top;\n",
              "    }\n",
              "\n",
              "    .dataframe thead th {\n",
              "        text-align: right;\n",
              "    }\n",
              "</style>\n",
              "<table border=\"1\" class=\"dataframe\">\n",
              "  <thead>\n",
              "    <tr style=\"text-align: right;\">\n",
              "      <th></th>\n",
              "      <th>Item_Visibility</th>\n",
              "      <th>Item_MRP</th>\n",
              "      <th>Outlet_Establishment_Year</th>\n",
              "      <th>Item_Outlet_Sales</th>\n",
              "    </tr>\n",
              "  </thead>\n",
              "  <tbody>\n",
              "    <tr>\n",
              "      <th>count</th>\n",
              "      <td>8523.000000</td>\n",
              "      <td>8523.000000</td>\n",
              "      <td>8523.000000</td>\n",
              "      <td>8523.000000</td>\n",
              "    </tr>\n",
              "    <tr>\n",
              "      <th>mean</th>\n",
              "      <td>0.066132</td>\n",
              "      <td>140.992782</td>\n",
              "      <td>1997.831867</td>\n",
              "      <td>2181.288914</td>\n",
              "    </tr>\n",
              "    <tr>\n",
              "      <th>std</th>\n",
              "      <td>0.051598</td>\n",
              "      <td>62.275067</td>\n",
              "      <td>8.371760</td>\n",
              "      <td>1706.499616</td>\n",
              "    </tr>\n",
              "    <tr>\n",
              "      <th>min</th>\n",
              "      <td>0.000000</td>\n",
              "      <td>31.290000</td>\n",
              "      <td>1985.000000</td>\n",
              "      <td>33.290000</td>\n",
              "    </tr>\n",
              "    <tr>\n",
              "      <th>25%</th>\n",
              "      <td>0.026989</td>\n",
              "      <td>93.826500</td>\n",
              "      <td>1987.000000</td>\n",
              "      <td>834.247400</td>\n",
              "    </tr>\n",
              "    <tr>\n",
              "      <th>50%</th>\n",
              "      <td>0.053931</td>\n",
              "      <td>143.012800</td>\n",
              "      <td>1999.000000</td>\n",
              "      <td>1794.331000</td>\n",
              "    </tr>\n",
              "    <tr>\n",
              "      <th>75%</th>\n",
              "      <td>0.094585</td>\n",
              "      <td>185.643700</td>\n",
              "      <td>2004.000000</td>\n",
              "      <td>3101.296400</td>\n",
              "    </tr>\n",
              "    <tr>\n",
              "      <th>max</th>\n",
              "      <td>0.328391</td>\n",
              "      <td>266.888400</td>\n",
              "      <td>2009.000000</td>\n",
              "      <td>13086.964800</td>\n",
              "    </tr>\n",
              "  </tbody>\n",
              "</table>\n",
              "</div>\n",
              "      <button class=\"colab-df-convert\" onclick=\"convertToInteractive('df-87f5afa7-64b9-4a2f-b901-b60b3e69d496')\"\n",
              "              title=\"Convert this dataframe to an interactive table.\"\n",
              "              style=\"display:none;\">\n",
              "        \n",
              "  <svg xmlns=\"http://www.w3.org/2000/svg\" height=\"24px\"viewBox=\"0 0 24 24\"\n",
              "       width=\"24px\">\n",
              "    <path d=\"M0 0h24v24H0V0z\" fill=\"none\"/>\n",
              "    <path d=\"M18.56 5.44l.94 2.06.94-2.06 2.06-.94-2.06-.94-.94-2.06-.94 2.06-2.06.94zm-11 1L8.5 8.5l.94-2.06 2.06-.94-2.06-.94L8.5 2.5l-.94 2.06-2.06.94zm10 10l.94 2.06.94-2.06 2.06-.94-2.06-.94-.94-2.06-.94 2.06-2.06.94z\"/><path d=\"M17.41 7.96l-1.37-1.37c-.4-.4-.92-.59-1.43-.59-.52 0-1.04.2-1.43.59L10.3 9.45l-7.72 7.72c-.78.78-.78 2.05 0 2.83L4 21.41c.39.39.9.59 1.41.59.51 0 1.02-.2 1.41-.59l7.78-7.78 2.81-2.81c.8-.78.8-2.07 0-2.86zM5.41 20L4 18.59l7.72-7.72 1.47 1.35L5.41 20z\"/>\n",
              "  </svg>\n",
              "      </button>\n",
              "      \n",
              "  <style>\n",
              "    .colab-df-container {\n",
              "      display:flex;\n",
              "      flex-wrap:wrap;\n",
              "      gap: 12px;\n",
              "    }\n",
              "\n",
              "    .colab-df-convert {\n",
              "      background-color: #E8F0FE;\n",
              "      border: none;\n",
              "      border-radius: 50%;\n",
              "      cursor: pointer;\n",
              "      display: none;\n",
              "      fill: #1967D2;\n",
              "      height: 32px;\n",
              "      padding: 0 0 0 0;\n",
              "      width: 32px;\n",
              "    }\n",
              "\n",
              "    .colab-df-convert:hover {\n",
              "      background-color: #E2EBFA;\n",
              "      box-shadow: 0px 1px 2px rgba(60, 64, 67, 0.3), 0px 1px 3px 1px rgba(60, 64, 67, 0.15);\n",
              "      fill: #174EA6;\n",
              "    }\n",
              "\n",
              "    [theme=dark] .colab-df-convert {\n",
              "      background-color: #3B4455;\n",
              "      fill: #D2E3FC;\n",
              "    }\n",
              "\n",
              "    [theme=dark] .colab-df-convert:hover {\n",
              "      background-color: #434B5C;\n",
              "      box-shadow: 0px 1px 3px 1px rgba(0, 0, 0, 0.15);\n",
              "      filter: drop-shadow(0px 1px 2px rgba(0, 0, 0, 0.3));\n",
              "      fill: #FFFFFF;\n",
              "    }\n",
              "  </style>\n",
              "\n",
              "      <script>\n",
              "        const buttonEl =\n",
              "          document.querySelector('#df-87f5afa7-64b9-4a2f-b901-b60b3e69d496 button.colab-df-convert');\n",
              "        buttonEl.style.display =\n",
              "          google.colab.kernel.accessAllowed ? 'block' : 'none';\n",
              "\n",
              "        async function convertToInteractive(key) {\n",
              "          const element = document.querySelector('#df-87f5afa7-64b9-4a2f-b901-b60b3e69d496');\n",
              "          const dataTable =\n",
              "            await google.colab.kernel.invokeFunction('convertToInteractive',\n",
              "                                                     [key], {});\n",
              "          if (!dataTable) return;\n",
              "\n",
              "          const docLinkHtml = 'Like what you see? Visit the ' +\n",
              "            '<a target=\"_blank\" href=https://colab.research.google.com/notebooks/data_table.ipynb>data table notebook</a>'\n",
              "            + ' to learn more about interactive tables.';\n",
              "          element.innerHTML = '';\n",
              "          dataTable['output_type'] = 'display_data';\n",
              "          await google.colab.output.renderOutput(dataTable, element);\n",
              "          const docLink = document.createElement('div');\n",
              "          docLink.innerHTML = docLinkHtml;\n",
              "          element.appendChild(docLink);\n",
              "        }\n",
              "      </script>\n",
              "    </div>\n",
              "  </div>\n",
              "  "
            ]
          },
          "metadata": {},
          "execution_count": 77
        }
      ]
    },
    {
      "cell_type": "markdown",
      "source": [
        "#Visualizing Our Data \n",
        "\n",
        "Here I'll  provide a statistical analysis of our data that may help, understand, model, or explain our data. I'll attempt to provide visualizations for easier viewing"
      ],
      "metadata": {
        "id": "tgztWXnZsGRg"
      }
    },
    {
      "cell_type": "code",
      "source": [
        "# Starting with a correlation heat map to see what data might correlate to each other for further exploration if needed\n",
        "# Here we see in regards to sales the only metric with a positive correlation is Item_MRP \n",
        "# We also see that the year established has a negative correlation with sales\n",
        "# Additionally, it looks like the Outlet establishment year has a severely negative correlation with Item Visibility\n",
        "corr = projections_df.corr()\n",
        "sns.heatmap(corr, cmap='Blues', annot = True);"
      ],
      "metadata": {
        "colab": {
          "base_uri": "https://localhost:8080/",
          "height": 409
        },
        "id": "5LLtiR9xf7ml",
        "outputId": "3e22c47e-5d37-423e-dff2-e31c4b471305"
      },
      "execution_count": 78,
      "outputs": [
        {
          "output_type": "display_data",
          "data": {
            "text/plain": [
              "<Figure size 432x288 with 2 Axes>"
            ],
            "image/png": "[encoded data removed]"
          },
          "metadata": {}
        }
      ]
    },
    {
      "cell_type": "code",
      "source": [
        "# Next we'll do a Histogram to check out distribution of outlets by opening year\n",
        "mean = projections_df['Outlet_Establishment_Year'].mean()\n",
        "ax = projections_df['Outlet_Establishment_Year'].hist();\n",
        "ax.set(xlabel = 'Year Established', ylabel = 'Number of Outlets', title = 'Distribution of Outlets by opening');\n",
        "ax.axvline(mean, color='k', ls='--', label = f'Mean year of stores opened')\n",
        "ax.legend();\n"
      ],
      "metadata": {
        "colab": {
          "base_uri": "https://localhost:8080/",
          "height": 301
        },
        "id": "0o41hovWCKvA",
        "outputId": "fb413f67-1c0b-4b07-ee01-24d93d4079b6"
      },
      "execution_count": 79,
      "outputs": [
        {
          "output_type": "display_data",
          "data": {
            "text/plain": [
              "<Figure size 432x288 with 1 Axes>"
            ],
            "image/png": "[encoded data removed]"
          },
          "metadata": {}
        }
      ]
    },
    {
      "cell_type": "code",
      "source": [
        "projections_df.boxplot('Item_Outlet_Sales');\n",
        "#using a box plot for sales to show a summary of our sales data\n",
        "#We see that 0 would be our minimum sales, our 25th percentile of our stores are between $1000 - $1900\n",
        "#Our median sales just under $2000 per store \n",
        "#75th percentile is about $2000-$3000 \n",
        "#Our max is about $6500 in sales with anything after that being an outlier "
      ],
      "metadata": {
        "colab": {
          "base_uri": "https://localhost:8080/",
          "height": 269
        },
        "id": "RiGZWjSzUK3u",
        "outputId": "884a3fe1-ee6b-43f7-d2a5-5f0a2270a0e4"
      },
      "execution_count": 80,
      "outputs": [
        {
          "output_type": "display_data",
          "data": {
            "text/plain": [
              "<Figure size 432x288 with 1 Axes>"
            ],
            "image/png": "[encoded data removed]"
          },
          "metadata": {}
        }
      ]
    },
    {
      "cell_type": "markdown",
      "source": [
        "#Explaining Our Data\n",
        "\n",
        "Here I'm going to attempt to build visualizations in order to answer a couple of direct questions. Firstly, how have sales changed over time, and secondly which types of items are making the most money."
      ],
      "metadata": {
        "id": "W0WkrHEXsWmk"
      }
    },
    {
      "cell_type": "markdown",
      "source": [
        "*Q1*: How have sales changed over time?"
      ],
      "metadata": {
        "id": "4RHK1xpz4-hq"
      }
    },
    {
      "cell_type": "code",
      "source": [
        "sales_ot = projections_df.groupby('Outlet_Establishment_Year')['Item_Outlet_Sales'].sum()\n",
        "sns.set(style='darkgrid')\n",
        "ax = sns.lineplot(data=projections_df, x='Outlet_Establishment_Year', y=sales_ot)\n",
        "plt.ticklabel_format(style='plain')\n",
        "ax.set(title='Total sales over time', xlabel='Year', ylabel='Total Sales($)');\n",
        "# We can see that sales overall have increased over time, beginning at $1.5 million and increasing to about $2.9 million"
      ],
      "metadata": {
        "id": "L96erWvay3f-",
        "colab": {
          "base_uri": "https://localhost:8080/",
          "height": 301
        },
        "outputId": "49225495-8fe1-4151-9c7e-a0f8192d9b01"
      },
      "execution_count": 81,
      "outputs": [
        {
          "output_type": "display_data",
          "data": {
            "text/plain": [
              "<Figure size 432x288 with 1 Axes>"
            ],
            "image/png": "[encoded data removed]"
          },
          "metadata": {}
        }
      ]
    },
    {
      "cell_type": "markdown",
      "source": [
        "Q2: Which types of items are making the most money?\n",
        "\n",
        "\n",
        "\n"
      ],
      "metadata": {
        "id": "CAXNVbdR7HZs"
      }
    },
    {
      "cell_type": "code",
      "source": [
        "plt.figure(figsize=(10,10))\n",
        "item_sales_type = projections_df.groupby('Item_Type')['Item_Outlet_Sales'].sum().sort_values()\n",
        "ax = sns.barplot(data=projections_df, x=item_sales_type.values, y=item_sales_type.index, ci=None);\n",
        "sns.set(style='darkgrid')\n",
        "ax.set(title='Total of sales by Item Type($)', xlabel='Sales($)', ylabel='Item Type');\n",
        "ax.get_xaxis().get_major_formatter().set_scientific(False)\n",
        "# We can see here that Fruits & Vegetables are making the most with, Snack foods in a close 2nd"
      ],
      "metadata": {
        "id": "iHkCBuo6zfpB",
        "colab": {
          "base_uri": "https://localhost:8080/",
          "height": 627
        },
        "outputId": "2a5d97ca-60f9-43da-998f-e0a5d134ff7e"
      },
      "execution_count": 82,
      "outputs": [
        {
          "output_type": "display_data",
          "data": {
            "text/plain": [
              "<Figure size 720x720 with 1 Axes>"
            ],
            "image/png": "[encoded data removed]"
          },
          "metadata": {}
        }
      ]
    },
    {
      "cell_type": "markdown",
      "source": [
        "# Data split & PreProcessing\n",
        "\n",
        "Here we will be splitting our data and creating a preprocessing object in order to get our data ready for modeling, keeping data leakage in mind. we will use SimpleImputer to impute the missing values we originally imputed ourselves in our original DataFrame. Our Target vector here will be \"Item_Outlet_Sales.\"\n",
        "\n",
        "\n",
        "\n",
        "\n",
        " \n"
      ],
      "metadata": {
        "id": "2ZVth8gyLKzP"
      }
    },
    {
      "cell_type": "code",
      "source": [
        "# Viewing our data copy we made earlier \n",
        "projections_df2.head()"
      ],
      "metadata": {
        "id": "HbofBV7mL7Hu",
        "colab": {
          "base_uri": "https://localhost:8080/",
          "height": 357
        },
        "outputId": "17262d7c-6130-4096-813a-3f171d730c56"
      },
      "execution_count": 83,
      "outputs": [
        {
          "output_type": "execute_result",
          "data": {
            "text/plain": [
              "  Item_Identifier  Item_Weight Item_Fat_Content  Item_Visibility  \\\n",
              "0           FDA15         9.30          Low Fat         0.016047   \n",
              "1           DRC01         5.92          Regular         0.019278   \n",
              "2           FDN15        17.50          Low Fat         0.016760   \n",
              "3           FDX07        19.20          Regular         0.000000   \n",
              "4           NCD19         8.93          Low Fat         0.000000   \n",
              "\n",
              "               Item_Type  Item_MRP Outlet_Identifier  \\\n",
              "0                  Dairy  249.8092            OUT049   \n",
              "1            Soft Drinks   48.2692            OUT018   \n",
              "2                   Meat  141.6180            OUT049   \n",
              "3  Fruits and Vegetables  182.0950            OUT010   \n",
              "4              Household   53.8614            OUT013   \n",
              "\n",
              "   Outlet_Establishment_Year Outlet_Size Outlet_Location_Type  \\\n",
              "0                       1999      Medium               Tier 1   \n",
              "1                       2009      Medium               Tier 3   \n",
              "2                       1999      Medium               Tier 1   \n",
              "3                       1998         NaN               Tier 3   \n",
              "4                       1987        High               Tier 3   \n",
              "\n",
              "         Outlet_Type  Item_Outlet_Sales  \n",
              "0  Supermarket Type1          3735.1380  \n",
              "1  Supermarket Type2           443.4228  \n",
              "2  Supermarket Type1          2097.2700  \n",
              "3      Grocery Store           732.3800  \n",
              "4  Supermarket Type1           994.7052  "
            ],
            "text/html": [
              "\n",
              "  <div id=\"df-b209a56a-556d-4582-814f-0dc04df8ef88\">\n",
              "    <div class=\"colab-df-container\">\n",
              "      <div>\n",
              "<style scoped>\n",
              "    .dataframe tbody tr th:only-of-type {\n",
              "        vertical-align: middle;\n",
              "    }\n",
              "\n",
              "    .dataframe tbody tr th {\n",
              "        vertical-align: top;\n",
              "    }\n",
              "\n",
              "    .dataframe thead th {\n",
              "        text-align: right;\n",
              "    }\n",
              "</style>\n",
              "<table border=\"1\" class=\"dataframe\">\n",
              "  <thead>\n",
              "    <tr style=\"text-align: right;\">\n",
              "      <th></th>\n",
              "      <th>Item_Identifier</th>\n",
              "      <th>Item_Weight</th>\n",
              "      <th>Item_Fat_Content</th>\n",
              "      <th>Item_Visibility</th>\n",
              "      <th>Item_Type</th>\n",
              "      <th>Item_MRP</th>\n",
              "      <th>Outlet_Identifier</th>\n",
              "      <th>Outlet_Establishment_Year</th>\n",
              "      <th>Outlet_Size</th>\n",
              "      <th>Outlet_Location_Type</th>\n",
              "      <th>Outlet_Type</th>\n",
              "      <th>Item_Outlet_Sales</th>\n",
              "    </tr>\n",
              "  </thead>\n",
              "  <tbody>\n",
              "    <tr>\n",
              "      <th>0</th>\n",
              "      <td>FDA15</td>\n",
              "      <td>9.30</td>\n",
              "      <td>Low Fat</td>\n",
              "      <td>0.016047</td>\n",
              "      <td>Dairy</td>\n",
              "      <td>249.8092</td>\n",
              "      <td>OUT049</td>\n",
              "      <td>1999</td>\n",
              "      <td>Medium</td>\n",
              "      <td>Tier 1</td>\n",
              "      <td>Supermarket Type1</td>\n",
              "      <td>3735.1380</td>\n",
              "    </tr>\n",
              "    <tr>\n",
              "      <th>1</th>\n",
              "      <td>DRC01</td>\n",
              "      <td>5.92</td>\n",
              "      <td>Regular</td>\n",
              "      <td>0.019278</td>\n",
              "      <td>Soft Drinks</td>\n",
              "      <td>48.2692</td>\n",
              "      <td>OUT018</td>\n",
              "      <td>2009</td>\n",
              "      <td>Medium</td>\n",
              "      <td>Tier 3</td>\n",
              "      <td>Supermarket Type2</td>\n",
              "      <td>443.4228</td>\n",
              "    </tr>\n",
              "    <tr>\n",
              "      <th>2</th>\n",
              "      <td>FDN15</td>\n",
              "      <td>17.50</td>\n",
              "      <td>Low Fat</td>\n",
              "      <td>0.016760</td>\n",
              "      <td>Meat</td>\n",
              "      <td>141.6180</td>\n",
              "      <td>OUT049</td>\n",
              "      <td>1999</td>\n",
              "      <td>Medium</td>\n",
              "      <td>Tier 1</td>\n",
              "      <td>Supermarket Type1</td>\n",
              "      <td>2097.2700</td>\n",
              "    </tr>\n",
              "    <tr>\n",
              "      <th>3</th>\n",
              "      <td>FDX07</td>\n",
              "      <td>19.20</td>\n",
              "      <td>Regular</td>\n",
              "      <td>0.000000</td>\n",
              "      <td>Fruits and Vegetables</td>\n",
              "      <td>182.0950</td>\n",
              "      <td>OUT010</td>\n",
              "      <td>1998</td>\n",
              "      <td>NaN</td>\n",
              "      <td>Tier 3</td>\n",
              "      <td>Grocery Store</td>\n",
              "      <td>732.3800</td>\n",
              "    </tr>\n",
              "    <tr>\n",
              "      <th>4</th>\n",
              "      <td>NCD19</td>\n",
              "      <td>8.93</td>\n",
              "      <td>Low Fat</td>\n",
              "      <td>0.000000</td>\n",
              "      <td>Household</td>\n",
              "      <td>53.8614</td>\n",
              "      <td>OUT013</td>\n",
              "      <td>1987</td>\n",
              "      <td>High</td>\n",
              "      <td>Tier 3</td>\n",
              "      <td>Supermarket Type1</td>\n",
              "      <td>994.7052</td>\n",
              "    </tr>\n",
              "  </tbody>\n",
              "</table>\n",
              "</div>\n",
              "      <button class=\"colab-df-convert\" onclick=\"convertToInteractive('df-b209a56a-556d-4582-814f-0dc04df8ef88')\"\n",
              "              title=\"Convert this dataframe to an interactive table.\"\n",
              "              style=\"display:none;\">\n",
              "        \n",
              "  <svg xmlns=\"http://www.w3.org/2000/svg\" height=\"24px\"viewBox=\"0 0 24 24\"\n",
              "       width=\"24px\">\n",
              "    <path d=\"M0 0h24v24H0V0z\" fill=\"none\"/>\n",
              "    <path d=\"M18.56 5.44l.94 2.06.94-2.06 2.06-.94-2.06-.94-.94-2.06-.94 2.06-2.06.94zm-11 1L8.5 8.5l.94-2.06 2.06-.94-2.06-.94L8.5 2.5l-.94 2.06-2.06.94zm10 10l.94 2.06.94-2.06 2.06-.94-2.06-.94-.94-2.06-.94 2.06-2.06.94z\"/><path d=\"M17.41 7.96l-1.37-1.37c-.4-.4-.92-.59-1.43-.59-.52 0-1.04.2-1.43.59L10.3 9.45l-7.72 7.72c-.78.78-.78 2.05 0 2.83L4 21.41c.39.39.9.59 1.41.59.51 0 1.02-.2 1.41-.59l7.78-7.78 2.81-2.81c.8-.78.8-2.07 0-2.86zM5.41 20L4 18.59l7.72-7.72 1.47 1.35L5.41 20z\"/>\n",
              "  </svg>\n",
              "      </button>\n",
              "      \n",
              "  <style>\n",
              "    .colab-df-container {\n",
              "      display:flex;\n",
              "      flex-wrap:wrap;\n",
              "      gap: 12px;\n",
              "    }\n",
              "\n",
              "    .colab-df-convert {\n",
              "      background-color: #E8F0FE;\n",
              "      border: none;\n",
              "      border-radius: 50%;\n",
              "      cursor: pointer;\n",
              "      display: none;\n",
              "      fill: #1967D2;\n",
              "      height: 32px;\n",
              "      padding: 0 0 0 0;\n",
              "      width: 32px;\n",
              "    }\n",
              "\n",
              "    .colab-df-convert:hover {\n",
              "      background-color: #E2EBFA;\n",
              "      box-shadow: 0px 1px 2px rgba(60, 64, 67, 0.3), 0px 1px 3px 1px rgba(60, 64, 67, 0.15);\n",
              "      fill: #174EA6;\n",
              "    }\n",
              "\n",
              "    [theme=dark] .colab-df-convert {\n",
              "      background-color: #3B4455;\n",
              "      fill: #D2E3FC;\n",
              "    }\n",
              "\n",
              "    [theme=dark] .colab-df-convert:hover {\n",
              "      background-color: #434B5C;\n",
              "      box-shadow: 0px 1px 3px 1px rgba(0, 0, 0, 0.15);\n",
              "      filter: drop-shadow(0px 1px 2px rgba(0, 0, 0, 0.3));\n",
              "      fill: #FFFFFF;\n",
              "    }\n",
              "  </style>\n",
              "\n",
              "      <script>\n",
              "        const buttonEl =\n",
              "          document.querySelector('#df-b209a56a-556d-4582-814f-0dc04df8ef88 button.colab-df-convert');\n",
              "        buttonEl.style.display =\n",
              "          google.colab.kernel.accessAllowed ? 'block' : 'none';\n",
              "\n",
              "        async function convertToInteractive(key) {\n",
              "          const element = document.querySelector('#df-b209a56a-556d-4582-814f-0dc04df8ef88');\n",
              "          const dataTable =\n",
              "            await google.colab.kernel.invokeFunction('convertToInteractive',\n",
              "                                                     [key], {});\n",
              "          if (!dataTable) return;\n",
              "\n",
              "          const docLinkHtml = 'Like what you see? Visit the ' +\n",
              "            '<a target=\"_blank\" href=https://colab.research.google.com/notebooks/data_table.ipynb>data table notebook</a>'\n",
              "            + ' to learn more about interactive tables.';\n",
              "          element.innerHTML = '';\n",
              "          dataTable['output_type'] = 'display_data';\n",
              "          await google.colab.output.renderOutput(dataTable, element);\n",
              "          const docLink = document.createElement('div');\n",
              "          docLink.innerHTML = docLinkHtml;\n",
              "          element.appendChild(docLink);\n",
              "        }\n",
              "      </script>\n",
              "    </div>\n",
              "  </div>\n",
              "  "
            ]
          },
          "metadata": {},
          "execution_count": 83
        }
      ]
    },
    {
      "cell_type": "code",
      "source": [
        "# Showing missing values are still in place as they were above \n",
        "projections_df2.isna().sum()"
      ],
      "metadata": {
        "id": "98rC4mpPMIcJ",
        "colab": {
          "base_uri": "https://localhost:8080/"
        },
        "outputId": "2694b65e-6fc9-4da8-8373-7a008f4fafc0"
      },
      "execution_count": 84,
      "outputs": [
        {
          "output_type": "execute_result",
          "data": {
            "text/plain": [
              "Item_Identifier                 0\n",
              "Item_Weight                  1463\n",
              "Item_Fat_Content                0\n",
              "Item_Visibility                 0\n",
              "Item_Type                       0\n",
              "Item_MRP                        0\n",
              "Outlet_Identifier               0\n",
              "Outlet_Establishment_Year       0\n",
              "Outlet_Size                  2410\n",
              "Outlet_Location_Type            0\n",
              "Outlet_Type                     0\n",
              "Item_Outlet_Sales               0\n",
              "dtype: int64"
            ]
          },
          "metadata": {},
          "execution_count": 84
        }
      ]
    },
    {
      "cell_type": "code",
      "source": [
        "# Checking for duplicates as we did above\n",
        "projections_df2.duplicated().sum()"
      ],
      "metadata": {
        "id": "U88U_mK0MRpd",
        "colab": {
          "base_uri": "https://localhost:8080/"
        },
        "outputId": "645fdc47-1aa7-4a3b-bca1-9eab0b7d5fee"
      },
      "execution_count": 85,
      "outputs": [
        {
          "output_type": "execute_result",
          "data": {
            "text/plain": [
              "0"
            ]
          },
          "metadata": {},
          "execution_count": 85
        }
      ]
    },
    {
      "cell_type": "code",
      "source": [
        "# Splitting the data\n",
        "X = projections_df2.drop(columns='Item_Outlet_Sales')\n",
        "y = projections_df2['Item_Outlet_Sales']\n",
        "X_train, X_test, y_train, y_test = train_test_split(X, y, random_state=42)"
      ],
      "metadata": {
        "id": "B4xdBKikMeDL"
      },
      "execution_count": 86,
      "outputs": []
    },
    {
      "cell_type": "code",
      "source": [
        "# Instantiating Transformers\n",
        "scaler = StandardScaler()\n",
        "ohe = OneHotEncoder(sparse=False, handle_unknown='ignore')\n",
        "mean_imputer = SimpleImputer(strategy='mean')\n",
        "most_freq_imputer = SimpleImputer(strategy='most_frequent')"
      ],
      "metadata": {
        "id": "0tl13z6qVls_"
      },
      "execution_count": 87,
      "outputs": []
    },
    {
      "cell_type": "code",
      "source": [
        "# Creating Pipelines\n",
        "number_pipe = make_pipeline(mean_imputer, scaler)\n",
        "nominal_pipe = make_pipeline(most_freq_imputer, ohe)\n"
      ],
      "metadata": {
        "id": "039JwWrQaT4m"
      },
      "execution_count": 88,
      "outputs": []
    },
    {
      "cell_type": "code",
      "source": [
        "# Creating Tuples to match to pipelines\n",
        "number_selector = make_column_selector(dtype_include='number')\n",
        "nom_cols = ['Item_Type', 'Outlet_Size', 'Outlet_Location_Type', 'Outlet_Type']\n",
        "number_tuple = (number_pipe, number_selector)\n",
        "nominal_tuple = (nominal_pipe, nom_cols)"
      ],
      "metadata": {
        "id": "VWOiT_-3bO3X"
      },
      "execution_count": 89,
      "outputs": []
    },
    {
      "cell_type": "code",
      "source": [
        "# Creating Preprocessing Object, fitting to data, and transforming data\n",
        "preprocessor = make_column_transformer(number_tuple, nominal_tuple)\n",
        "preprocessor.fit(X_train, y_train)\n",
        "X_train_processed = preprocessor.transform(X_train)\n",
        "X_test_processed = preprocessor.transform(X_test)"
      ],
      "metadata": {
        "id": "LslqylvMcvm3"
      },
      "execution_count": 90,
      "outputs": []
    },
    {
      "cell_type": "markdown",
      "source": [
        "# Models & Metrics"
      ],
      "metadata": {
        "id": "ox6CNxqmIRcI"
      }
    },
    {
      "cell_type": "markdown",
      "source": [
        "I'll start by creating and evaluating a Linear Regression model, based on R2 Score and RMSE score"
      ],
      "metadata": {
        "id": "E6Qoron4IXCk"
      }
    },
    {
      "cell_type": "code",
      "source": [
        "# Instantiating model, creating pipeline, fitting, and creating predictions\n",
        "lin_reg = LinearRegression()\n",
        "lin_reg_pipe = make_pipeline(scaler, lin_reg)\n",
        "lin_reg_pipe.fit(X_train_processed, y_train)\n",
        "train_pred = lin_reg_pipe.predict(X_train_processed)\n",
        "test_pred = lin_reg_pipe.predict(X_test_processed)\n",
        "ax = sns.scatterplot(x= y_test, y= test_pred, hue= y_test, alpha=1, legend='brief');\n",
        "ax.set(title= 'Sales Predictions', xlabel= 'Testing Data (in $)', ylabel= 'Predictions (in $)',);"
      ],
      "metadata": {
        "id": "q8VDg6D1IdWi",
        "colab": {
          "base_uri": "https://localhost:8080/",
          "height": 301
        },
        "outputId": "d042267d-948d-4088-9fc7-3d6eac1c5110"
      },
      "execution_count": 91,
      "outputs": [
        {
          "output_type": "display_data",
          "data": {
            "text/plain": [
              "<Figure size 432x288 with 1 Axes>"
            ],
            "image/png": "[encoded data removed]"
          },
          "metadata": {}
        }
      ]
    },
    {
      "cell_type": "code",
      "source": [
        "# Evaluation based on r^2\n",
        "train_r2 = r2_score(y_train, train_pred)\n",
        "test_r2 = r2_score(y_test, test_pred)\n",
        "print(f'Train r2 Score: {train_r2}')\n",
        "print(f'Test r2 Score: {test_r2}')"
      ],
      "metadata": {
        "colab": {
          "base_uri": "https://localhost:8080/"
        },
        "id": "cqayVuyKIgES",
        "outputId": "95ff3705-e0f5-411d-ea29-757a53c88422"
      },
      "execution_count": 92,
      "outputs": [
        {
          "output_type": "stream",
          "name": "stdout",
          "text": [
            "Train r2 Score: 0.5609504845618722\n",
            "Test r2 Score: 0.5675484646290592\n"
          ]
        }
      ]
    },
    {
      "cell_type": "code",
      "source": [
        "# Evaluation based on RMSE, I'll calculate MSE first, then use np.sqrt \n",
        "train_MSE = mean_squared_error(y_train, train_pred)\n",
        "test_MSE = mean_squared_error(y_test, test_pred)\n",
        "train_RMSE = np.sqrt(train_MSE)\n",
        "test_RMSE = np.sqrt(test_MSE)\n",
        "print(f'Train RMSE Score: {train_RMSE}')\n",
        "print(f'Test RMSE Score: {test_RMSE}')"
      ],
      "metadata": {
        "colab": {
          "base_uri": "https://localhost:8080/"
        },
        "id": "MX9tbeaZIiZA",
        "outputId": "a314e6a7-e072-44d7-dd4e-39cb36d5a090"
      },
      "execution_count": 93,
      "outputs": [
        {
          "output_type": "stream",
          "name": "stdout",
          "text": [
            "Train RMSE Score: 1139.8892898141419\n",
            "Test RMSE Score: 1092.3021395957903\n"
          ]
        }
      ]
    },
    {
      "cell_type": "markdown",
      "source": [
        "Next, I'll build a Regression Tree Model and evaluate it using the same metrics, R2 and RMSE."
      ],
      "metadata": {
        "id": "aUjILDuHInE9"
      }
    },
    {
      "cell_type": "code",
      "source": [
        "# Creating regression tree, fitting, and creating predictions\n",
        "reg_tree = DecisionTreeRegressor(random_state=42)\n",
        "reg_tree.fit(X_train_processed, y_train)\n",
        "regtree_train_pred = reg_tree.predict(X_train_processed)\n",
        "regtree_test_pred = reg_tree.predict(X_test_processed)"
      ],
      "metadata": {
        "id": "jPF7zBpuIr1z"
      },
      "execution_count": 94,
      "outputs": []
    },
    {
      "cell_type": "code",
      "source": [
        "# Comparing performance based on r^2\n",
        "tree_train_score = reg_tree.score(X_train_processed, y_train)\n",
        "tree_test_score = reg_tree.score(X_test_processed, y_test)\n",
        "print(f'r2 Train Score: {tree_train_score}')\n",
        "print(f'r2 Test Score: {tree_test_score}')"
      ],
      "metadata": {
        "colab": {
          "base_uri": "https://localhost:8080/"
        },
        "id": "zum6DBexItz3",
        "outputId": "a0a22443-9115-4950-8459-d4deb4078675"
      },
      "execution_count": 95,
      "outputs": [
        {
          "output_type": "stream",
          "name": "stdout",
          "text": [
            "r2 Train Score: 1.0\n",
            "r2 Test Score: 0.21883810878478083\n"
          ]
        }
      ]
    },
    {
      "cell_type": "code",
      "source": [
        "# Comparing based on RMSE, just like before, I'll calculate MSE for this first\n",
        "tree_train_MSE = mean_squared_error(y_train, train_pred)\n",
        "tree_test_MSE = mean_squared_error(y_test, test_pred)\n",
        "tree_train_RMSE = np.sqrt(tree_train_MSE)\n",
        "tree_test_RMSE = np.sqrt(tree_test_MSE)\n",
        "print(f'Train RMSE Score: {tree_train_RMSE}')\n",
        "print(f'Test RMSE Score: {tree_test_RMSE}')"
      ],
      "metadata": {
        "colab": {
          "base_uri": "https://localhost:8080/"
        },
        "id": "BR6XCO-HIv4A",
        "outputId": "c67816f4-5964-4eeb-bcc4-287631984946"
      },
      "execution_count": 96,
      "outputs": [
        {
          "output_type": "stream",
          "name": "stdout",
          "text": [
            "Train RMSE Score: 1139.8892898141419\n",
            "Test RMSE Score: 1092.3021395957903\n"
          ]
        }
      ]
    },
    {
      "cell_type": "markdown",
      "source": [
        "Let's tune the Regression Tree to see if we might be able to get more comparable scores"
      ],
      "metadata": {
        "id": "XG1jd1a7c0OE"
      }
    },
    {
      "cell_type": "code",
      "source": [
        "# Lets tune this decision tree to see if we might be able to get some better scores\n",
        "reg_tree.get_params()\n",
        "reg_tree.get_depth()"
      ],
      "metadata": {
        "colab": {
          "base_uri": "https://localhost:8080/"
        },
        "id": "ihXZ8GrjM4tj",
        "outputId": "8594bb8e-e674-45fd-984e-c266cead554a"
      },
      "execution_count": 97,
      "outputs": [
        {
          "output_type": "execute_result",
          "data": {
            "text/plain": [
              "40"
            ]
          },
          "metadata": {},
          "execution_count": 97
        }
      ]
    },
    {
      "cell_type": "code",
      "source": [
        "# Creating range and Data Frame for tuned scores, creating predictions\n",
        "reg_tree2_max_depth = range(2 , 40)\n",
        "reg_tree2_df = pd.DataFrame(index=reg_tree2_max_depth, columns=['Training Score', 'Testing Score'])\n",
        "for depth in reg_tree2_max_depth:\n",
        "  reg_tree2 = DecisionTreeRegressor(max_depth=depth, random_state=42)\n",
        "  reg_tree2.fit(X_train_processed, y_train)\n",
        "  reg_tree2_train_pred = reg_tree2.predict(X_train_processed)\n",
        "  reg_tree2_test_pred = reg_tree2.predict(X_test_processed)\n",
        "  reg_tree2_train_score = reg_tree2.score(X_train_processed, y_train)\n",
        "  reg_tree2_test_score = reg_tree2.score(X_test_processed, y_test)\n",
        "  reg_tree2_df.loc[depth,'Training Score'] = reg_tree2_train_score\n",
        "  reg_tree2_df.loc[depth,'Testing Score'] = reg_tree2_test_score\n",
        "reg_tree2_df.sort_values(by='Testing Score', ascending=False)"
      ],
      "metadata": {
        "colab": {
          "base_uri": "https://localhost:8080/",
          "height": 1000
        },
        "id": "H8GNEXNRNOsN",
        "outputId": "b62b3556-026e-4309-e3bf-4e5493c998bf"
      },
      "execution_count": 98,
      "outputs": [
        {
          "output_type": "execute_result",
          "data": {
            "text/plain": [
              "   Training Score Testing Score\n",
              "5        0.603921      0.594685\n",
              "6        0.614866      0.584902\n",
              "4        0.582625      0.584005\n",
              "7        0.626737      0.578346\n",
              "8        0.642486      0.564574\n",
              "9        0.661969      0.544985\n",
              "3        0.524218      0.524222\n",
              "10       0.683052      0.523016\n",
              "11       0.707801      0.507041\n",
              "12        0.73456      0.482884\n",
              "13       0.763422      0.448445\n",
              "2        0.431641      0.433778\n",
              "14       0.793794      0.432679\n",
              "15       0.823562       0.40161\n",
              "16       0.849807       0.36971\n",
              "17       0.874738      0.332847\n",
              "18       0.899392      0.324275\n",
              "19       0.920979      0.309466\n",
              "20       0.939067      0.292424\n",
              "21       0.953179      0.269705\n",
              "24       0.976849      0.267104\n",
              "23        0.97175      0.263648\n",
              "22       0.964573      0.262993\n",
              "25       0.981388      0.241227\n",
              "36       0.999796      0.239708\n",
              "26       0.984622      0.238028\n",
              "27        0.98825      0.233032\n",
              "30       0.995002      0.232432\n",
              "33       0.998392      0.232134\n",
              "35       0.999542       0.23022\n",
              "32       0.997352      0.226986\n",
              "29        0.99352      0.226494\n",
              "38       0.999996      0.222848\n",
              "39       0.999999      0.221294\n",
              "34       0.999031      0.220797\n",
              "31        0.99627      0.220788\n",
              "28       0.991269      0.215983\n",
              "37       0.999971      0.215742"
            ],
            "text/html": [
              "\n",
              "  <div id=\"df-3d09dce8-5a7e-4144-95fb-6a240f98bc8a\">\n",
              "    <div class=\"colab-df-container\">\n",
              "      <div>\n",
              "<style scoped>\n",
              "    .dataframe tbody tr th:only-of-type {\n",
              "        vertical-align: middle;\n",
              "    }\n",
              "\n",
              "    .dataframe tbody tr th {\n",
              "        vertical-align: top;\n",
              "    }\n",
              "\n",
              "    .dataframe thead th {\n",
              "        text-align: right;\n",
              "    }\n",
              "</style>\n",
              "<table border=\"1\" class=\"dataframe\">\n",
              "  <thead>\n",
              "    <tr style=\"text-align: right;\">\n",
              "      <th></th>\n",
              "      <th>Training Score</th>\n",
              "      <th>Testing Score</th>\n",
              "    </tr>\n",
              "  </thead>\n",
              "  <tbody>\n",
              "    <tr>\n",
              "      <th>5</th>\n",
              "      <td>0.603921</td>\n",
              "      <td>0.594685</td>\n",
              "    </tr>\n",
              "    <tr>\n",
              "      <th>6</th>\n",
              "      <td>0.614866</td>\n",
              "      <td>0.584902</td>\n",
              "    </tr>\n",
              "    <tr>\n",
              "      <th>4</th>\n",
              "      <td>0.582625</td>\n",
              "      <td>0.584005</td>\n",
              "    </tr>\n",
              "    <tr>\n",
              "      <th>7</th>\n",
              "      <td>0.626737</td>\n",
              "      <td>0.578346</td>\n",
              "    </tr>\n",
              "    <tr>\n",
              "      <th>8</th>\n",
              "      <td>0.642486</td>\n",
              "      <td>0.564574</td>\n",
              "    </tr>\n",
              "    <tr>\n",
              "      <th>9</th>\n",
              "      <td>0.661969</td>\n",
              "      <td>0.544985</td>\n",
              "    </tr>\n",
              "    <tr>\n",
              "      <th>3</th>\n",
              "      <td>0.524218</td>\n",
              "      <td>0.524222</td>\n",
              "    </tr>\n",
              "    <tr>\n",
              "      <th>10</th>\n",
              "      <td>0.683052</td>\n",
              "      <td>0.523016</td>\n",
              "    </tr>\n",
              "    <tr>\n",
              "      <th>11</th>\n",
              "      <td>0.707801</td>\n",
              "      <td>0.507041</td>\n",
              "    </tr>\n",
              "    <tr>\n",
              "      <th>12</th>\n",
              "      <td>0.73456</td>\n",
              "      <td>0.482884</td>\n",
              "    </tr>\n",
              "    <tr>\n",
              "      <th>13</th>\n",
              "      <td>0.763422</td>\n",
              "      <td>0.448445</td>\n",
              "    </tr>\n",
              "    <tr>\n",
              "      <th>2</th>\n",
              "      <td>0.431641</td>\n",
              "      <td>0.433778</td>\n",
              "    </tr>\n",
              "    <tr>\n",
              "      <th>14</th>\n",
              "      <td>0.793794</td>\n",
              "      <td>0.432679</td>\n",
              "    </tr>\n",
              "    <tr>\n",
              "      <th>15</th>\n",
              "      <td>0.823562</td>\n",
              "      <td>0.40161</td>\n",
              "    </tr>\n",
              "    <tr>\n",
              "      <th>16</th>\n",
              "      <td>0.849807</td>\n",
              "      <td>0.36971</td>\n",
              "    </tr>\n",
              "    <tr>\n",
              "      <th>17</th>\n",
              "      <td>0.874738</td>\n",
              "      <td>0.332847</td>\n",
              "    </tr>\n",
              "    <tr>\n",
              "      <th>18</th>\n",
              "      <td>0.899392</td>\n",
              "      <td>0.324275</td>\n",
              "    </tr>\n",
              "    <tr>\n",
              "      <th>19</th>\n",
              "      <td>0.920979</td>\n",
              "      <td>0.309466</td>\n",
              "    </tr>\n",
              "    <tr>\n",
              "      <th>20</th>\n",
              "      <td>0.939067</td>\n",
              "      <td>0.292424</td>\n",
              "    </tr>\n",
              "    <tr>\n",
              "      <th>21</th>\n",
              "      <td>0.953179</td>\n",
              "      <td>0.269705</td>\n",
              "    </tr>\n",
              "    <tr>\n",
              "      <th>24</th>\n",
              "      <td>0.976849</td>\n",
              "      <td>0.267104</td>\n",
              "    </tr>\n",
              "    <tr>\n",
              "      <th>23</th>\n",
              "      <td>0.97175</td>\n",
              "      <td>0.263648</td>\n",
              "    </tr>\n",
              "    <tr>\n",
              "      <th>22</th>\n",
              "      <td>0.964573</td>\n",
              "      <td>0.262993</td>\n",
              "    </tr>\n",
              "    <tr>\n",
              "      <th>25</th>\n",
              "      <td>0.981388</td>\n",
              "      <td>0.241227</td>\n",
              "    </tr>\n",
              "    <tr>\n",
              "      <th>36</th>\n",
              "      <td>0.999796</td>\n",
              "      <td>0.239708</td>\n",
              "    </tr>\n",
              "    <tr>\n",
              "      <th>26</th>\n",
              "      <td>0.984622</td>\n",
              "      <td>0.238028</td>\n",
              "    </tr>\n",
              "    <tr>\n",
              "      <th>27</th>\n",
              "      <td>0.98825</td>\n",
              "      <td>0.233032</td>\n",
              "    </tr>\n",
              "    <tr>\n",
              "      <th>30</th>\n",
              "      <td>0.995002</td>\n",
              "      <td>0.232432</td>\n",
              "    </tr>\n",
              "    <tr>\n",
              "      <th>33</th>\n",
              "      <td>0.998392</td>\n",
              "      <td>0.232134</td>\n",
              "    </tr>\n",
              "    <tr>\n",
              "      <th>35</th>\n",
              "      <td>0.999542</td>\n",
              "      <td>0.23022</td>\n",
              "    </tr>\n",
              "    <tr>\n",
              "      <th>32</th>\n",
              "      <td>0.997352</td>\n",
              "      <td>0.226986</td>\n",
              "    </tr>\n",
              "    <tr>\n",
              "      <th>29</th>\n",
              "      <td>0.99352</td>\n",
              "      <td>0.226494</td>\n",
              "    </tr>\n",
              "    <tr>\n",
              "      <th>38</th>\n",
              "      <td>0.999996</td>\n",
              "      <td>0.222848</td>\n",
              "    </tr>\n",
              "    <tr>\n",
              "      <th>39</th>\n",
              "      <td>0.999999</td>\n",
              "      <td>0.221294</td>\n",
              "    </tr>\n",
              "    <tr>\n",
              "      <th>34</th>\n",
              "      <td>0.999031</td>\n",
              "      <td>0.220797</td>\n",
              "    </tr>\n",
              "    <tr>\n",
              "      <th>31</th>\n",
              "      <td>0.99627</td>\n",
              "      <td>0.220788</td>\n",
              "    </tr>\n",
              "    <tr>\n",
              "      <th>28</th>\n",
              "      <td>0.991269</td>\n",
              "      <td>0.215983</td>\n",
              "    </tr>\n",
              "    <tr>\n",
              "      <th>37</th>\n",
              "      <td>0.999971</td>\n",
              "      <td>0.215742</td>\n",
              "    </tr>\n",
              "  </tbody>\n",
              "</table>\n",
              "</div>\n",
              "      <button class=\"colab-df-convert\" onclick=\"convertToInteractive('df-3d09dce8-5a7e-4144-95fb-6a240f98bc8a')\"\n",
              "              title=\"Convert this dataframe to an interactive table.\"\n",
              "              style=\"display:none;\">\n",
              "        \n",
              "  <svg xmlns=\"http://www.w3.org/2000/svg\" height=\"24px\"viewBox=\"0 0 24 24\"\n",
              "       width=\"24px\">\n",
              "    <path d=\"M0 0h24v24H0V0z\" fill=\"none\"/>\n",
              "    <path d=\"M18.56 5.44l.94 2.06.94-2.06 2.06-.94-2.06-.94-.94-2.06-.94 2.06-2.06.94zm-11 1L8.5 8.5l.94-2.06 2.06-.94-2.06-.94L8.5 2.5l-.94 2.06-2.06.94zm10 10l.94 2.06.94-2.06 2.06-.94-2.06-.94-.94-2.06-.94 2.06-2.06.94z\"/><path d=\"M17.41 7.96l-1.37-1.37c-.4-.4-.92-.59-1.43-.59-.52 0-1.04.2-1.43.59L10.3 9.45l-7.72 7.72c-.78.78-.78 2.05 0 2.83L4 21.41c.39.39.9.59 1.41.59.51 0 1.02-.2 1.41-.59l7.78-7.78 2.81-2.81c.8-.78.8-2.07 0-2.86zM5.41 20L4 18.59l7.72-7.72 1.47 1.35L5.41 20z\"/>\n",
              "  </svg>\n",
              "      </button>\n",
              "      \n",
              "  <style>\n",
              "    .colab-df-container {\n",
              "      display:flex;\n",
              "      flex-wrap:wrap;\n",
              "      gap: 12px;\n",
              "    }\n",
              "\n",
              "    .colab-df-convert {\n",
              "      background-color: #E8F0FE;\n",
              "      border: none;\n",
              "      border-radius: 50%;\n",
              "      cursor: pointer;\n",
              "      display: none;\n",
              "      fill: #1967D2;\n",
              "      height: 32px;\n",
              "      padding: 0 0 0 0;\n",
              "      width: 32px;\n",
              "    }\n",
              "\n",
              "    .colab-df-convert:hover {\n",
              "      background-color: #E2EBFA;\n",
              "      box-shadow: 0px 1px 2px rgba(60, 64, 67, 0.3), 0px 1px 3px 1px rgba(60, 64, 67, 0.15);\n",
              "      fill: #174EA6;\n",
              "    }\n",
              "\n",
              "    [theme=dark] .colab-df-convert {\n",
              "      background-color: #3B4455;\n",
              "      fill: #D2E3FC;\n",
              "    }\n",
              "\n",
              "    [theme=dark] .colab-df-convert:hover {\n",
              "      background-color: #434B5C;\n",
              "      box-shadow: 0px 1px 3px 1px rgba(0, 0, 0, 0.15);\n",
              "      filter: drop-shadow(0px 1px 2px rgba(0, 0, 0, 0.3));\n",
              "      fill: #FFFFFF;\n",
              "    }\n",
              "  </style>\n",
              "\n",
              "      <script>\n",
              "        const buttonEl =\n",
              "          document.querySelector('#df-3d09dce8-5a7e-4144-95fb-6a240f98bc8a button.colab-df-convert');\n",
              "        buttonEl.style.display =\n",
              "          google.colab.kernel.accessAllowed ? 'block' : 'none';\n",
              "\n",
              "        async function convertToInteractive(key) {\n",
              "          const element = document.querySelector('#df-3d09dce8-5a7e-4144-95fb-6a240f98bc8a');\n",
              "          const dataTable =\n",
              "            await google.colab.kernel.invokeFunction('convertToInteractive',\n",
              "                                                     [key], {});\n",
              "          if (!dataTable) return;\n",
              "\n",
              "          const docLinkHtml = 'Like what you see? Visit the ' +\n",
              "            '<a target=\"_blank\" href=https://colab.research.google.com/notebooks/data_table.ipynb>data table notebook</a>'\n",
              "            + ' to learn more about interactive tables.';\n",
              "          element.innerHTML = '';\n",
              "          dataTable['output_type'] = 'display_data';\n",
              "          await google.colab.output.renderOutput(dataTable, element);\n",
              "          const docLink = document.createElement('div');\n",
              "          docLink.innerHTML = docLinkHtml;\n",
              "          element.appendChild(docLink);\n",
              "        }\n",
              "      </script>\n",
              "    </div>\n",
              "  </div>\n",
              "  "
            ]
          },
          "metadata": {},
          "execution_count": 98
        }
      ]
    },
    {
      "cell_type": "code",
      "source": [
        "# Huge difference after tuning! This has a comparable R2 score to our Linear Regression model\n",
        "# Lets create, and evaluate this model, starting with R2\n",
        "regtree_tuned = DecisionTreeRegressor(max_depth=5, random_state=42)\n",
        "regtree_tuned.fit(X_train_processed, y_train)\n",
        "regtree_tuned_train_pred = regtree_tuned.predict(X_train_processed)\n",
        "regtree_tuned_test_pred = regtree_tuned.predict(X_test_processed)\n",
        "regtree_tuned_train_score = regtree_tuned.score(X_train_processed, y_train)\n",
        "regtree_tuned_test_score = regtree_tuned.score(X_test_processed, y_test)\n",
        "print(f'Tuned Regression Tree R2 Training Score:{regtree_tuned_train_score}')\n",
        "print(f'Tuned Regression Tree R2 Testing Score:{regtree_tuned_test_score}')"
      ],
      "metadata": {
        "colab": {
          "base_uri": "https://localhost:8080/"
        },
        "id": "E2je5QYRQTKT",
        "outputId": "15689596-c472-4ea5-cbaa-5d05b8567f77"
      },
      "execution_count": 99,
      "outputs": [
        {
          "output_type": "stream",
          "name": "stdout",
          "text": [
            "Tuned Regression Tree R2 Training Score:0.603920610161473\n",
            "Tuned Regression Tree R2 Testing Score:0.5946848986383744\n"
          ]
        }
      ]
    },
    {
      "cell_type": "code",
      "source": [
        "tree_train_MSE = mean_squared_error(y_train, train_pred)\n",
        "tree_test_MSE = mean_squared_error(y_test, test_pred)\n",
        "tree_train_RMSE = np.sqrt(tree_train_MSE)\n",
        "tree_test_RMSE = np.sqrt(tree_test_MSE)\n",
        "print(f'Train RMSE Score: {tree_train_RMSE}')\n",
        "print(f'Test RMSE Score: {tree_test_RMSE}')"
      ],
      "metadata": {
        "colab": {
          "base_uri": "https://localhost:8080/"
        },
        "id": "bb_yymq0ULvR",
        "outputId": "dedf206a-4df7-4de9-aa8a-5b9e9fa91f6b"
      },
      "execution_count": 100,
      "outputs": [
        {
          "output_type": "stream",
          "name": "stdout",
          "text": [
            "Train RMSE Score: 1139.8892898141419\n",
            "Test RMSE Score: 1092.3021395957903\n"
          ]
        }
      ]
    },
    {
      "cell_type": "code",
      "source": [
        "# Now we'll evaluate based on RMSE like we did with our Linear Regression\n",
        "regtree_tuned_train_MSE = mean_squared_error(y_train, regtree_tuned_train_pred)\n",
        "regtree_tuned_test_MSE = mean_squared_error(y_test, regtree_tuned_test_pred)\n",
        "regtree_tuned_train_RMSE = np.sqrt(regtree_tuned_train_MSE)\n",
        "regtree_tuned_test_RMSE = np.sqrt(regtree_tuned_test_MSE)\n",
        "print(f'Regression Tree Training RMSE Score: {regtree_tuned_train_RMSE}')\n",
        "print(f'Regression Tree Tuned Test RMSE Score: {regtree_tuned_test_RMSE}')"
      ],
      "metadata": {
        "colab": {
          "base_uri": "https://localhost:8080/"
        },
        "id": "rB3f2BlrUPnB",
        "outputId": "ab818802-bc66-4dd7-e504-c6b6d833db97"
      },
      "execution_count": 101,
      "outputs": [
        {
          "output_type": "stream",
          "name": "stdout",
          "text": [
            "Regression Tree Training RMSE Score: 1082.6723464202025\n",
            "Regression Tree Tuned Test RMSE Score: 1057.4758432521178\n"
          ]
        }
      ]
    },
    {
      "cell_type": "code",
      "source": [
        "# Okay this has been a lot of evaluation, lets put these scores in closer cells for an easier read\n",
        "print('Linear Regression R2 Training & Testing Scores:')\n",
        "print(f'Train r2 Score: {train_r2}')\n",
        "print(f'Test r2 Score: {test_r2}')\n",
        "print('Linear Regression RMSE Training & Testing Scores:')\n",
        "print(f'Train RMSE Score: {train_RMSE}')\n",
        "print(f'Test RMSE Score: {test_RMSE}')"
      ],
      "metadata": {
        "colab": {
          "base_uri": "https://localhost:8080/"
        },
        "id": "QUAox4zpVWOT",
        "outputId": "318a69dd-e31d-4377-dec9-d11bc7b171fd"
      },
      "execution_count": 102,
      "outputs": [
        {
          "output_type": "stream",
          "name": "stdout",
          "text": [
            "Linear Regression R2 Training & Testing Scores:\n",
            "Train r2 Score: 0.5609504845618722\n",
            "Test r2 Score: 0.5675484646290592\n",
            "Linear Regression RMSE Training & Testing Scores:\n",
            "Train RMSE Score: 1139.8892898141419\n",
            "Test RMSE Score: 1092.3021395957903\n"
          ]
        }
      ]
    },
    {
      "cell_type": "code",
      "source": [
        "print('Tuned Regression Tree R2 Training & Testing Scores:')\n",
        "print(f'Regression Tree R2 Training Score:{regtree_tuned_train_score}')\n",
        "print(f'Regression Tree R2 Testing Score:{regtree_tuned_test_score}')\n",
        "print('Tuned Regression Tree RMSE Training & Testing Scores:')\n",
        "print(f'Regression Tree Training RMSE Score: {regtree_tuned_train_RMSE}')\n",
        "print(f'Regression Tree Tuned Test RMSE Score: {regtree_tuned_test_RMSE}')"
      ],
      "metadata": {
        "colab": {
          "base_uri": "https://localhost:8080/"
        },
        "id": "_VgYEobyXb2N",
        "outputId": "c9259ae5-2cc6-4377-ec35-2b9865432112"
      },
      "execution_count": 103,
      "outputs": [
        {
          "output_type": "stream",
          "name": "stdout",
          "text": [
            "Tuned Regression Tree R2 Training & Testing Scores:\n",
            "Regression Tree R2 Training Score:0.603920610161473\n",
            "Regression Tree R2 Testing Score:0.5946848986383744\n",
            "Tuned Regression Tree RMSE Training & Testing Scores:\n",
            "Regression Tree Training RMSE Score: 1082.6723464202025\n",
            "Regression Tree Tuned Test RMSE Score: 1057.4758432521178\n"
          ]
        }
      ]
    },
    {
      "cell_type": "markdown",
      "source": [
        "##Overall, I recommend the Regression Tree Model for this \n",
        "\n",
        "after comparing the models and tuning, I would recommend a Regression Tree for this data\n",
        "\n",
        "* Justification:\n",
        "\n",
        "Comparing the two models based on both RMSE and R2 scores shows that both models are relatively balanced. However, after tuning, the Regression Tree performs better on both training AND testing data, for both R2 and RMSE. This leads me to believe that this model would be the superior choice in this case"
      ],
      "metadata": {
        "id": "17ilIHT6I3ZO"
      }
    }
  ]
}